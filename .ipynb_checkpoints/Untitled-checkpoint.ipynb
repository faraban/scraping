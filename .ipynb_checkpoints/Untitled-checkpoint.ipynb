{
 "cells": [
  {
   "cell_type": "code",
   "execution_count": 27,
   "id": "fae1518d",
   "metadata": {},
   "outputs": [],
   "source": [
    "import requests\n",
    "from selenium import webdriver\n",
    "from selenium.webdriver.common.by import By\n",
    "from selenium.webdriver.common.keys import Keys\n",
    "import os\n",
    "from time import sleep"
   ]
  },
  {
   "cell_type": "code",
   "execution_count": 100,
   "id": "0ef997d9",
   "metadata": {},
   "outputs": [
    {
     "name": "stdout",
     "output_type": "stream",
     "text": [
      "https://i.roamcdn.net/hz/ed/listing-thumb-224w/7c9a5e827b5c9f50ebd1a46c3588abe6/-/horizon-files-prod/ed/picture/qderv2gg/3732b70abbaebedb1c7087a6adce82e71ff14b38.jpg\n",
      "https://i.roamcdn.net/hz/ed/listing-thumb-224w/f503d8c01f79e441b389117569a60a0f/-/horizon-files-prod/ed/picture/qv4p69px/4978c9aede3830b3944ee4bc93a99b6d27229d08.jpg\n",
      "https://i.roamcdn.net/hz/ed/listing-thumb-224w/86f66452d7cc82353df693bb5709e6d4/-/horizon-files-prod/ed/picture/q787m6dn/f0065bf10f3830c8c4da3a2f89423747ee852245.jpg\n",
      "https://i.roamcdn.net/hz/ed/listing-thumb-224w/4d2b7163c5d00d51a8a768210f0a84e0/-/horizon-files-prod/ed/picture/qq449mpv/31c26f10d3298b61a1f084fa1ca3115107390cbc.jpg\n",
      "https://i.roamcdn.net/hz/ed/listing-thumb-224w/90bcf5167247443dee449f8ca9b263a7/-/horizon-files-prod/ed/picture/qm890jj/7e3059b26f9180a9e7ca468387bc83628f666427.jpg\n",
      "https://i.roamcdn.net/hz/ed/listing-thumb-224w/07c8bdb183f9b449c044efe02e88a3a0/-/horizon-files-prod/ed/picture/qngdqq0e/905bbd8ddde6e0f297fad9d1ec38b2a3b1d8467b.jpg\n",
      "https://i.roamcdn.net/hz/ed/listing-thumb-224w/b1507cddb04c6a543e0e79e83640b418/-/horizon-files-prod/ed/picture/qj4496qd/80f0f88d23c343fbb55e257f81c348f8af4880a0.jpg\n",
      "https://i.roamcdn.net/hz/ed/listing-thumb-224w/9040d633e07a4b40b23e94bf534015b4/-/horizon-files-prod/ed/picture/qjvzqk8/11e3386b7d797e4883152b6bf38f80e03ea0581b.jpg\n",
      "https://i.roamcdn.net/hz/ed/listing-thumb-224w/afc4df2fe383dc9a548565426ddcac6b/-/horizon-files-prod/ed/picture/q0gpx4vj/4acf19a1f77f104c21b3f0772bac3c7e1b43c664.jpg\n",
      "https://i.roamcdn.net/hz/ed/listing-thumb-224w/aa79ebbb0e71e2136b151e3bf236f1cb/-/horizon-files-prod/ed/picture/qpddd7em/bd7a641506f763b588c7db7ba9f0fe2fe03c6322.jpg\n"
     ]
    }
   ],
   "source": [
    "driver = webdriver.Chrome()\n",
    "driver.get('https://www.expat-dakar.com/annonces?q=appartement&page=65')\n",
    "urls=driver.find_elements(By.CSS_SELECTOR,\".listing-card__inner\")\n",
    "\n",
    "for url in urls:\n",
    "    print(url.get_attribute(\"src\"))\n",
    "\n",
    "\n",
    "#     try:\n",
    "        \n",
    "#     except Exception:\n",
    "#         print('none')\n",
    "#         continue"
   ]
  },
  {
   "cell_type": "code",
   "execution_count": 81,
   "id": "423d5824",
   "metadata": {},
   "outputs": [
    {
     "ename": "StaleElementReferenceException",
     "evalue": "Message: stale element reference: stale element not found\n  (Session info: chrome=117.0.5938.89); For documentation on this error, please visit: https://www.selenium.dev/documentation/webdriver/troubleshooting/errors#stale-element-reference-exception\nStacktrace:\n\tGetHandleVerifier [0x00007FF6341C7892+54818]\n\t(No symbol) [0x00007FF634136AC2]\n\t(No symbol) [0x00007FF633FEDA3B]\n\t(No symbol) [0x00007FF633FFB1FA]\n\t(No symbol) [0x00007FF633FF2859]\n\t(No symbol) [0x00007FF633FF2963]\n\t(No symbol) [0x00007FF633FF1712]\n\t(No symbol) [0x00007FF633FF42AA]\n\t(No symbol) [0x00007FF634067C34]\n\t(No symbol) [0x00007FF63404EAAA]\n\t(No symbol) [0x00007FF6340675A2]\n\t(No symbol) [0x00007FF63404E883]\n\t(No symbol) [0x00007FF634023691]\n\t(No symbol) [0x00007FF6340248D4]\n\tGetHandleVerifier [0x00007FF63452B992+3610402]\n\tGetHandleVerifier [0x00007FF634581860+3962352]\n\tGetHandleVerifier [0x00007FF634579D4F+3930847]\n\tGetHandleVerifier [0x00007FF634263646+693206]\n\t(No symbol) [0x00007FF634141628]\n\t(No symbol) [0x00007FF63413D934]\n\t(No symbol) [0x00007FF63413DA62]\n\t(No symbol) [0x00007FF63412E113]\n\tBaseThreadInitThunk [0x00007FFA750C7344+20]\n\tRtlUserThreadStart [0x00007FFA759E26B1+33]\n",
     "output_type": "error",
     "traceback": [
      "\u001b[1;31m---------------------------------------------------------------------------\u001b[0m",
      "\u001b[1;31mStaleElementReferenceException\u001b[0m            Traceback (most recent call last)",
      "Input \u001b[1;32mIn [81]\u001b[0m, in \u001b[0;36m<cell line: 1>\u001b[1;34m()\u001b[0m\n\u001b[0;32m      1\u001b[0m \u001b[38;5;28;01mfor\u001b[39;00m u \u001b[38;5;129;01min\u001b[39;00m urls:\n\u001b[1;32m----> 2\u001b[0m     \u001b[38;5;28mprint\u001b[39m(\u001b[43mu\u001b[49m\u001b[38;5;241;43m.\u001b[39;49m\u001b[43mget_attribute\u001b[49m\u001b[43m(\u001b[49m\u001b[38;5;124;43m'\u001b[39;49m\u001b[38;5;124;43msrc\u001b[39;49m\u001b[38;5;124;43m'\u001b[39;49m\u001b[43m)\u001b[49m)\n",
      "File \u001b[1;32m~\\anaconda3\\lib\\site-packages\\selenium\\webdriver\\remote\\webelement.py:177\u001b[0m, in \u001b[0;36mWebElement.get_attribute\u001b[1;34m(self, name)\u001b[0m\n\u001b[0;32m    175\u001b[0m \u001b[38;5;28;01mif\u001b[39;00m getAttribute_js \u001b[38;5;129;01mis\u001b[39;00m \u001b[38;5;28;01mNone\u001b[39;00m:\n\u001b[0;32m    176\u001b[0m     _load_js()\n\u001b[1;32m--> 177\u001b[0m attribute_value \u001b[38;5;241m=\u001b[39m \u001b[38;5;28;43mself\u001b[39;49m\u001b[38;5;241;43m.\u001b[39;49m\u001b[43mparent\u001b[49m\u001b[38;5;241;43m.\u001b[39;49m\u001b[43mexecute_script\u001b[49m\u001b[43m(\u001b[49m\n\u001b[0;32m    178\u001b[0m \u001b[43m    \u001b[49m\u001b[38;5;124;43mf\u001b[39;49m\u001b[38;5;124;43m\"\u001b[39;49m\u001b[38;5;124;43m/* getAttribute */return (\u001b[39;49m\u001b[38;5;132;43;01m{\u001b[39;49;00m\u001b[43mgetAttribute_js\u001b[49m\u001b[38;5;132;43;01m}\u001b[39;49;00m\u001b[38;5;124;43m).apply(null, arguments);\u001b[39;49m\u001b[38;5;124;43m\"\u001b[39;49m\u001b[43m,\u001b[49m\u001b[43m \u001b[49m\u001b[38;5;28;43mself\u001b[39;49m\u001b[43m,\u001b[49m\u001b[43m \u001b[49m\u001b[43mname\u001b[49m\n\u001b[0;32m    179\u001b[0m \u001b[43m\u001b[49m\u001b[43m)\u001b[49m\n\u001b[0;32m    180\u001b[0m \u001b[38;5;28;01mreturn\u001b[39;00m attribute_value\n",
      "File \u001b[1;32m~\\anaconda3\\lib\\site-packages\\selenium\\webdriver\\remote\\webdriver.py:404\u001b[0m, in \u001b[0;36mWebDriver.execute_script\u001b[1;34m(self, script, *args)\u001b[0m\n\u001b[0;32m    401\u001b[0m converted_args \u001b[38;5;241m=\u001b[39m \u001b[38;5;28mlist\u001b[39m(args)\n\u001b[0;32m    402\u001b[0m command \u001b[38;5;241m=\u001b[39m Command\u001b[38;5;241m.\u001b[39mW3C_EXECUTE_SCRIPT\n\u001b[1;32m--> 404\u001b[0m \u001b[38;5;28;01mreturn\u001b[39;00m \u001b[38;5;28;43mself\u001b[39;49m\u001b[38;5;241;43m.\u001b[39;49m\u001b[43mexecute\u001b[49m\u001b[43m(\u001b[49m\u001b[43mcommand\u001b[49m\u001b[43m,\u001b[49m\u001b[43m \u001b[49m\u001b[43m{\u001b[49m\u001b[38;5;124;43m\"\u001b[39;49m\u001b[38;5;124;43mscript\u001b[39;49m\u001b[38;5;124;43m\"\u001b[39;49m\u001b[43m:\u001b[49m\u001b[43m \u001b[49m\u001b[43mscript\u001b[49m\u001b[43m,\u001b[49m\u001b[43m \u001b[49m\u001b[38;5;124;43m\"\u001b[39;49m\u001b[38;5;124;43margs\u001b[39;49m\u001b[38;5;124;43m\"\u001b[39;49m\u001b[43m:\u001b[49m\u001b[43m \u001b[49m\u001b[43mconverted_args\u001b[49m\u001b[43m}\u001b[49m\u001b[43m)\u001b[49m[\u001b[38;5;124m\"\u001b[39m\u001b[38;5;124mvalue\u001b[39m\u001b[38;5;124m\"\u001b[39m]\n",
      "File \u001b[1;32m~\\anaconda3\\lib\\site-packages\\selenium\\webdriver\\remote\\webdriver.py:344\u001b[0m, in \u001b[0;36mWebDriver.execute\u001b[1;34m(self, driver_command, params)\u001b[0m\n\u001b[0;32m    342\u001b[0m response \u001b[38;5;241m=\u001b[39m \u001b[38;5;28mself\u001b[39m\u001b[38;5;241m.\u001b[39mcommand_executor\u001b[38;5;241m.\u001b[39mexecute(driver_command, params)\n\u001b[0;32m    343\u001b[0m \u001b[38;5;28;01mif\u001b[39;00m response:\n\u001b[1;32m--> 344\u001b[0m     \u001b[38;5;28;43mself\u001b[39;49m\u001b[38;5;241;43m.\u001b[39;49m\u001b[43merror_handler\u001b[49m\u001b[38;5;241;43m.\u001b[39;49m\u001b[43mcheck_response\u001b[49m\u001b[43m(\u001b[49m\u001b[43mresponse\u001b[49m\u001b[43m)\u001b[49m\n\u001b[0;32m    345\u001b[0m     response[\u001b[38;5;124m\"\u001b[39m\u001b[38;5;124mvalue\u001b[39m\u001b[38;5;124m\"\u001b[39m] \u001b[38;5;241m=\u001b[39m \u001b[38;5;28mself\u001b[39m\u001b[38;5;241m.\u001b[39m_unwrap_value(response\u001b[38;5;241m.\u001b[39mget(\u001b[38;5;124m\"\u001b[39m\u001b[38;5;124mvalue\u001b[39m\u001b[38;5;124m\"\u001b[39m, \u001b[38;5;28;01mNone\u001b[39;00m))\n\u001b[0;32m    346\u001b[0m     \u001b[38;5;28;01mreturn\u001b[39;00m response\n",
      "File \u001b[1;32m~\\anaconda3\\lib\\site-packages\\selenium\\webdriver\\remote\\errorhandler.py:229\u001b[0m, in \u001b[0;36mErrorHandler.check_response\u001b[1;34m(self, response)\u001b[0m\n\u001b[0;32m    227\u001b[0m         alert_text \u001b[38;5;241m=\u001b[39m value[\u001b[38;5;124m\"\u001b[39m\u001b[38;5;124malert\u001b[39m\u001b[38;5;124m\"\u001b[39m]\u001b[38;5;241m.\u001b[39mget(\u001b[38;5;124m\"\u001b[39m\u001b[38;5;124mtext\u001b[39m\u001b[38;5;124m\"\u001b[39m)\n\u001b[0;32m    228\u001b[0m     \u001b[38;5;28;01mraise\u001b[39;00m exception_class(message, screen, stacktrace, alert_text)  \u001b[38;5;66;03m# type: ignore[call-arg]  # mypy is not smart enough here\u001b[39;00m\n\u001b[1;32m--> 229\u001b[0m \u001b[38;5;28;01mraise\u001b[39;00m exception_class(message, screen, stacktrace)\n",
      "\u001b[1;31mStaleElementReferenceException\u001b[0m: Message: stale element reference: stale element not found\n  (Session info: chrome=117.0.5938.89); For documentation on this error, please visit: https://www.selenium.dev/documentation/webdriver/troubleshooting/errors#stale-element-reference-exception\nStacktrace:\n\tGetHandleVerifier [0x00007FF6341C7892+54818]\n\t(No symbol) [0x00007FF634136AC2]\n\t(No symbol) [0x00007FF633FEDA3B]\n\t(No symbol) [0x00007FF633FFB1FA]\n\t(No symbol) [0x00007FF633FF2859]\n\t(No symbol) [0x00007FF633FF2963]\n\t(No symbol) [0x00007FF633FF1712]\n\t(No symbol) [0x00007FF633FF42AA]\n\t(No symbol) [0x00007FF634067C34]\n\t(No symbol) [0x00007FF63404EAAA]\n\t(No symbol) [0x00007FF6340675A2]\n\t(No symbol) [0x00007FF63404E883]\n\t(No symbol) [0x00007FF634023691]\n\t(No symbol) [0x00007FF6340248D4]\n\tGetHandleVerifier [0x00007FF63452B992+3610402]\n\tGetHandleVerifier [0x00007FF634581860+3962352]\n\tGetHandleVerifier [0x00007FF634579D4F+3930847]\n\tGetHandleVerifier [0x00007FF634263646+693206]\n\t(No symbol) [0x00007FF634141628]\n\t(No symbol) [0x00007FF63413D934]\n\t(No symbol) [0x00007FF63413DA62]\n\t(No symbol) [0x00007FF63412E113]\n\tBaseThreadInitThunk [0x00007FFA750C7344+20]\n\tRtlUserThreadStart [0x00007FFA759E26B1+33]\n"
     ]
    }
   ],
   "source": [
    "for u in urls:\n",
    "    print(u.get_attribute('src')) "
   ]
  },
  {
   "cell_type": "code",
   "execution_count": 63,
   "id": "56cab23f",
   "metadata": {},
   "outputs": [],
   "source": [
    "# response = requests.get(img_url)\n",
    "#  with open(\"image.jpg\", \"wb\") as file:\n",
    "#     file.write(response.content)"
   ]
  },
  {
   "cell_type": "code",
   "execution_count": null,
   "id": "09ba4da0",
   "metadata": {},
   "outputs": [],
   "source": []
  }
 ],
 "metadata": {
  "kernelspec": {
   "display_name": "Python 3 (ipykernel)",
   "language": "python",
   "name": "python3"
  },
  "language_info": {
   "codemirror_mode": {
    "name": "ipython",
    "version": 3
   },
   "file_extension": ".py",
   "mimetype": "text/x-python",
   "name": "python",
   "nbconvert_exporter": "python",
   "pygments_lexer": "ipython3",
   "version": "3.9.12"
  }
 },
 "nbformat": 4,
 "nbformat_minor": 5
}
