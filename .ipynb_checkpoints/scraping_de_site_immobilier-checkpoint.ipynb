{
 "cells": [
  {
   "cell_type": "code",
   "execution_count": 1,
   "id": "79e1efbe",
   "metadata": {},
   "outputs": [],
   "source": [
    "import pandas as pd \n",
    "import numpy as np\n",
    "from time import sleep "
   ]
  },
  {
   "cell_type": "code",
   "execution_count": 2,
   "id": "1c93d995",
   "metadata": {},
   "outputs": [],
   "source": [
    "from selenium import webdriver \n",
    "from selenium.webdriver.common.by import By\n",
    "from selenium.webdriver.common.keys import Keys \n",
    "import requests"
   ]
  },
  {
   "cell_type": "code",
   "execution_count": 3,
   "id": "13419405",
   "metadata": {},
   "outputs": [],
   "source": [
    "def Takelink(n):\n",
    "    driver = webdriver.Chrome()\n",
    "    href=[]\n",
    "    for i in range(n):\n",
    "        driver.get(f'https://www.expat-dakar.com/annonces?q=appartement&page={i}') \n",
    "        urls=driver.find_elements(By.CSS_SELECTOR,\".listing-card__inner\")\n",
    "        sleep(0.2)\n",
    "        for i in range(len(urls)):\n",
    "            href.append(urls[i].get_attribute(\"href\"))\n",
    "    return href"
   ]
  },
  {
   "cell_type": "code",
   "execution_count": 5,
   "id": "220fbcdb",
   "metadata": {},
   "outputs": [],
   "source": [
    "a=Takelink(1)"
   ]
  },
  {
   "cell_type": "code",
   "execution_count": 67,
   "id": "785c3cf8",
   "metadata": {},
   "outputs": [],
   "source": [
    "def stockimage(img):\n",
    "    for i in img:\n",
    "        url = img.get_attribute(\"src\")\n",
    "        if img_url:\n",
    "            try:\n",
    "                response = requests.get(img_url)\n",
    "                response.raise_for_status()\n",
    "                with open(\"image.jpg\", \"wb\") as file:\n",
    "                    file.write(response.content)\n",
    "            except requests.exceptions.RequestException as e:\n",
    "                print(f\"Une erreur s'est produite lors du téléchargement de l'image : {e}\")"
   ]
  },
  {
   "cell_type": "code",
   "execution_count": 85,
   "id": "18b4d8b8",
   "metadata": {},
   "outputs": [],
   "source": [
    "driver = webdriver.Chrome()\n",
    "driver.get(f'https://www.expat-dakar.com/annonce/bel-appartement-dans-une-residence-avec-piscine-au-virage-5864008')\n",
    "img=driver.find_elements(By.CLASS_NAME,'gallery__image__resource')"
   ]
  },
  {
   "cell_type": "code",
   "execution_count": 89,
   "id": "865fc56b",
   "metadata": {},
   "outputs": [
    {
     "name": "stdout",
     "output_type": "stream",
     "text": [
      "https://i.roamcdn.net/hz/ed/listing-thumb-543w/e051c6d49418018e60bc8e1614f6ac4d/-/horizon-files-prod/ed/picture/q8v50886/7b369131f07f2befb003c87bdff963155a0b168e.jpg\n",
      "https://i.roamcdn.net/hz/ed/listing-thumb-543w/3103fa08d3a5fca3633befe993918263/-/horizon-files-prod/ed/picture/q8v50886/af5b49a68c2a5b9abe57bc42f1838d319aea24a9.jpg\n",
      "https://i.roamcdn.net/hz/ed/listing-thumb-543w/486822fce1f164fa684ae2f30ce1a0fa/-/horizon-files-prod/ed/picture/q8v50886/38ac2563c8aa024d08b81f91ea41b79c1644ea69.jpg\n",
      "https://i.roamcdn.net/hz/ed/listing-thumb-543w/21855c52ba9539bf9051b1f7667fda7d/-/horizon-files-prod/ed/picture/q8v50886/290558cb9544f5856ac9020861734564d0714b74.jpg\n",
      "https://i.roamcdn.net/hz/ed/listing-thumb-543w/35829fe45603dd4cd6a10520cf700b35/-/horizon-files-prod/ed/picture/q8v50886/10af88ebb18432e5a50540f2d3b4bcca8e39de49.jpg\n",
      "https://i.roamcdn.net/hz/ed/listing-thumb-543w/baf0392afc8b2f88dfe50e6a253f40ed/-/horizon-files-prod/ed/picture/q8v50886/95f444ab6637cdfac9b08b67e11b5f5d530680d7.jpg\n",
      "https://i.roamcdn.net/hz/ed/listing-thumb-543w/293f38607901070bed3dcbc819769cce/-/horizon-files-prod/ed/picture/q8v50886/1cc50edbdf6160907a195e38e7bde96634740cad.jpg\n",
      "https://i.roamcdn.net/hz/ed/listing-thumb-543w/62da67cbe83a1165a50c5c4603bb2325/-/horizon-files-prod/ed/picture/q8v50886/d3704a4dcc0286be59a78202f7bf37dd6dff0fec.jpg\n",
      "https://i.roamcdn.net/hz/ed/listing-thumb-543w/dd66b3040c1be0d3a65cef47c1dfa60a/-/horizon-files-prod/ed/picture/q8v50886/dd1ed6ddca39cd5a8281e0d7e2dcf5d3635e3a77.jpg\n",
      "https://i.roamcdn.net/hz/ed/listing-thumb-543w/e4b6bf61637594bbacc2170f04161998/-/horizon-files-prod/ed/picture/q8v50886/3ba3a05cb61034e547997abd24a2644a84fecb30.jpg\n",
      "https://i.roamcdn.net/hz/ed/listing-thumb-543w/80542b4f021694ce57d1ca0a3c226460/-/horizon-files-prod/ed/picture/q8v50886/6f74943980ed24c864e46c32777d0c628ec80582.jpg\n",
      "https://i.roamcdn.net/hz/ed/listing-thumb-543w/9237affc264d0dae1c6c36233f2c4bfc/-/horizon-files-prod/ed/picture/q8v50886/971042845f3b176045f1ab2defacf7171889903f.jpg\n",
      "https://i.roamcdn.net/hz/ed/listing-thumb-543w/5d509ea5d4ad938d6d2891c433eeff42/-/horizon-files-prod/ed/picture/q8v50886/2b86b04fed7fee82a267a31b31f4df6cb16b7e04.jpg\n",
      "https://i.roamcdn.net/hz/ed/listing-thumb-543w/999ce07f65c06cb30f700fd9c78601c8/-/horizon-files-prod/ed/picture/q8v50886/8abcfde64eefd27f72ce3c4928b51ae2cb82b013.jpg\n",
      "https://i.roamcdn.net/hz/ed/listing-thumb-543w/f456bd211728b5531233b4eb9c484f98/-/horizon-files-prod/ed/picture/q8v50886/c1ec3418150d1d654ccfa2b5430a3fd09fcbeec5.jpg\n"
     ]
    }
   ],
   "source": [
    "for i in range(int(len(img)/2)):\n",
    "    print(img[i].get_attribute('src'))"
   ]
  },
  {
   "cell_type": "code",
   "execution_count": 90,
   "id": "0b8d74be",
   "metadata": {},
   "outputs": [
    {
     "data": {
      "text/plain": [
       "2"
      ]
     },
     "execution_count": 90,
     "metadata": {},
     "output_type": "execute_result"
    }
   ],
   "source": [
    "int(5/)"
   ]
  },
  {
   "cell_type": "code",
   "execution_count": 13,
   "id": "893eae08",
   "metadata": {},
   "outputs": [],
   "source": [
    "def Take_elements(href):\n",
    "    driver = webdriver.Chrome()\n",
    "    name=[]\n",
    "    chambre=[]\n",
    "    bain=[]\n",
    "    prix=[]\n",
    "    date_time=[]\n",
    "    local=[]\n",
    "    for i in href:\n",
    "        driver.get(i)\n",
    "        sleep(0.2)\n",
    "        D = driver.find_element(By.CLASS_NAME,'listing-item__header') \n",
    "        C = driver.find_element(By.CLASS_NAME,'listing-item__properties') \n",
    "        P = driver.find_element(By.CLASS_NAME,'listing-item__price') \n",
    "        d = driver.find_element(By.CLASS_NAME,'listing-item__details__date') \n",
    "        L = driver.find_element(By.CLASS_NAME,'listing-item__address')\n",
    "        img=driver.find_element(By.CLASS_NAME,'gallery__image__resource')\n",
    "        \n",
    "        name.append(D.text)\n",
    "        chambre.append(C.text)\n",
    "        prix.append(P.text)\n",
    "        date_time.append(d.text)\n",
    "        local.append(L.text)\n",
    "#         for i in range(len(prc)):\n",
    "#             print(' ')\n",
    "            \n",
    "    return (name,chambre,prix,date_time,local)"
   ]
  },
  {
   "cell_type": "code",
   "execution_count": 14,
   "id": "ec0f55be",
   "metadata": {},
   "outputs": [
    {
     "ename": "NoSuchElementException",
     "evalue": "Message: no such element: Unable to locate element: {\"method\":\"css selector\",\"selector\":\".listing-item__properties\"}\n  (Session info: chrome=117.0.5938.89); For documentation on this error, please visit: https://www.selenium.dev/documentation/webdriver/troubleshooting/errors#no-such-element-exception\nStacktrace:\n\tGetHandleVerifier [0x00007FF6341C7892+54818]\n\t(No symbol) [0x00007FF634136AC2]\n\t(No symbol) [0x00007FF633FEDA3B]\n\t(No symbol) [0x00007FF63402E4FC]\n\t(No symbol) [0x00007FF63402E67C]\n\t(No symbol) [0x00007FF634069627]\n\t(No symbol) [0x00007FF63404EAEF]\n\t(No symbol) [0x00007FF6340675A2]\n\t(No symbol) [0x00007FF63404E883]\n\t(No symbol) [0x00007FF634023691]\n\t(No symbol) [0x00007FF6340248D4]\n\tGetHandleVerifier [0x00007FF63452B992+3610402]\n\tGetHandleVerifier [0x00007FF634581860+3962352]\n\tGetHandleVerifier [0x00007FF634579D4F+3930847]\n\tGetHandleVerifier [0x00007FF634263646+693206]\n\t(No symbol) [0x00007FF634141628]\n\t(No symbol) [0x00007FF63413D934]\n\t(No symbol) [0x00007FF63413DA62]\n\t(No symbol) [0x00007FF63412E113]\n\tBaseThreadInitThunk [0x00007FFA750C7344+20]\n\tRtlUserThreadStart [0x00007FFA759E26B1+33]\n",
     "output_type": "error",
     "traceback": [
      "\u001b[1;31m---------------------------------------------------------------------------\u001b[0m",
      "\u001b[1;31mNoSuchElementException\u001b[0m                    Traceback (most recent call last)",
      "Input \u001b[1;32mIn [14]\u001b[0m, in \u001b[0;36m<cell line: 1>\u001b[1;34m()\u001b[0m\n\u001b[1;32m----> 1\u001b[0m (name,chambre,prix,date_time,local)\u001b[38;5;241m=\u001b[39m\u001b[43mTake_elements\u001b[49m\u001b[43m(\u001b[49m\u001b[43ma\u001b[49m\u001b[43m)\u001b[49m\n",
      "Input \u001b[1;32mIn [13]\u001b[0m, in \u001b[0;36mTake_elements\u001b[1;34m(href)\u001b[0m\n\u001b[0;32m     11\u001b[0m sleep(\u001b[38;5;241m0.2\u001b[39m)\n\u001b[0;32m     12\u001b[0m D \u001b[38;5;241m=\u001b[39m driver\u001b[38;5;241m.\u001b[39mfind_element(By\u001b[38;5;241m.\u001b[39mCLASS_NAME,\u001b[38;5;124m'\u001b[39m\u001b[38;5;124mlisting-item__header\u001b[39m\u001b[38;5;124m'\u001b[39m) \n\u001b[1;32m---> 13\u001b[0m C \u001b[38;5;241m=\u001b[39m \u001b[43mdriver\u001b[49m\u001b[38;5;241;43m.\u001b[39;49m\u001b[43mfind_element\u001b[49m\u001b[43m(\u001b[49m\u001b[43mBy\u001b[49m\u001b[38;5;241;43m.\u001b[39;49m\u001b[43mCLASS_NAME\u001b[49m\u001b[43m,\u001b[49m\u001b[38;5;124;43m'\u001b[39;49m\u001b[38;5;124;43mlisting-item__properties\u001b[39;49m\u001b[38;5;124;43m'\u001b[39;49m\u001b[43m)\u001b[49m \n\u001b[0;32m     14\u001b[0m P \u001b[38;5;241m=\u001b[39m driver\u001b[38;5;241m.\u001b[39mfind_element(By\u001b[38;5;241m.\u001b[39mCLASS_NAME,\u001b[38;5;124m'\u001b[39m\u001b[38;5;124mlisting-item__price\u001b[39m\u001b[38;5;124m'\u001b[39m) \n\u001b[0;32m     15\u001b[0m d \u001b[38;5;241m=\u001b[39m driver\u001b[38;5;241m.\u001b[39mfind_element(By\u001b[38;5;241m.\u001b[39mCLASS_NAME,\u001b[38;5;124m'\u001b[39m\u001b[38;5;124mlisting-item__details__date\u001b[39m\u001b[38;5;124m'\u001b[39m) \n",
      "File \u001b[1;32m~\\anaconda3\\lib\\site-packages\\selenium\\webdriver\\remote\\webdriver.py:738\u001b[0m, in \u001b[0;36mWebDriver.find_element\u001b[1;34m(self, by, value)\u001b[0m\n\u001b[0;32m    735\u001b[0m     by \u001b[38;5;241m=\u001b[39m By\u001b[38;5;241m.\u001b[39mCSS_SELECTOR\n\u001b[0;32m    736\u001b[0m     value \u001b[38;5;241m=\u001b[39m \u001b[38;5;124mf\u001b[39m\u001b[38;5;124m'\u001b[39m\u001b[38;5;124m[name=\u001b[39m\u001b[38;5;124m\"\u001b[39m\u001b[38;5;132;01m{\u001b[39;00mvalue\u001b[38;5;132;01m}\u001b[39;00m\u001b[38;5;124m\"\u001b[39m\u001b[38;5;124m]\u001b[39m\u001b[38;5;124m'\u001b[39m\n\u001b[1;32m--> 738\u001b[0m \u001b[38;5;28;01mreturn\u001b[39;00m \u001b[38;5;28;43mself\u001b[39;49m\u001b[38;5;241;43m.\u001b[39;49m\u001b[43mexecute\u001b[49m\u001b[43m(\u001b[49m\u001b[43mCommand\u001b[49m\u001b[38;5;241;43m.\u001b[39;49m\u001b[43mFIND_ELEMENT\u001b[49m\u001b[43m,\u001b[49m\u001b[43m \u001b[49m\u001b[43m{\u001b[49m\u001b[38;5;124;43m\"\u001b[39;49m\u001b[38;5;124;43musing\u001b[39;49m\u001b[38;5;124;43m\"\u001b[39;49m\u001b[43m:\u001b[49m\u001b[43m \u001b[49m\u001b[43mby\u001b[49m\u001b[43m,\u001b[49m\u001b[43m \u001b[49m\u001b[38;5;124;43m\"\u001b[39;49m\u001b[38;5;124;43mvalue\u001b[39;49m\u001b[38;5;124;43m\"\u001b[39;49m\u001b[43m:\u001b[49m\u001b[43m \u001b[49m\u001b[43mvalue\u001b[49m\u001b[43m}\u001b[49m\u001b[43m)\u001b[49m[\u001b[38;5;124m\"\u001b[39m\u001b[38;5;124mvalue\u001b[39m\u001b[38;5;124m\"\u001b[39m]\n",
      "File \u001b[1;32m~\\anaconda3\\lib\\site-packages\\selenium\\webdriver\\remote\\webdriver.py:344\u001b[0m, in \u001b[0;36mWebDriver.execute\u001b[1;34m(self, driver_command, params)\u001b[0m\n\u001b[0;32m    342\u001b[0m response \u001b[38;5;241m=\u001b[39m \u001b[38;5;28mself\u001b[39m\u001b[38;5;241m.\u001b[39mcommand_executor\u001b[38;5;241m.\u001b[39mexecute(driver_command, params)\n\u001b[0;32m    343\u001b[0m \u001b[38;5;28;01mif\u001b[39;00m response:\n\u001b[1;32m--> 344\u001b[0m     \u001b[38;5;28;43mself\u001b[39;49m\u001b[38;5;241;43m.\u001b[39;49m\u001b[43merror_handler\u001b[49m\u001b[38;5;241;43m.\u001b[39;49m\u001b[43mcheck_response\u001b[49m\u001b[43m(\u001b[49m\u001b[43mresponse\u001b[49m\u001b[43m)\u001b[49m\n\u001b[0;32m    345\u001b[0m     response[\u001b[38;5;124m\"\u001b[39m\u001b[38;5;124mvalue\u001b[39m\u001b[38;5;124m\"\u001b[39m] \u001b[38;5;241m=\u001b[39m \u001b[38;5;28mself\u001b[39m\u001b[38;5;241m.\u001b[39m_unwrap_value(response\u001b[38;5;241m.\u001b[39mget(\u001b[38;5;124m\"\u001b[39m\u001b[38;5;124mvalue\u001b[39m\u001b[38;5;124m\"\u001b[39m, \u001b[38;5;28;01mNone\u001b[39;00m))\n\u001b[0;32m    346\u001b[0m     \u001b[38;5;28;01mreturn\u001b[39;00m response\n",
      "File \u001b[1;32m~\\anaconda3\\lib\\site-packages\\selenium\\webdriver\\remote\\errorhandler.py:229\u001b[0m, in \u001b[0;36mErrorHandler.check_response\u001b[1;34m(self, response)\u001b[0m\n\u001b[0;32m    227\u001b[0m         alert_text \u001b[38;5;241m=\u001b[39m value[\u001b[38;5;124m\"\u001b[39m\u001b[38;5;124malert\u001b[39m\u001b[38;5;124m\"\u001b[39m]\u001b[38;5;241m.\u001b[39mget(\u001b[38;5;124m\"\u001b[39m\u001b[38;5;124mtext\u001b[39m\u001b[38;5;124m\"\u001b[39m)\n\u001b[0;32m    228\u001b[0m     \u001b[38;5;28;01mraise\u001b[39;00m exception_class(message, screen, stacktrace, alert_text)  \u001b[38;5;66;03m# type: ignore[call-arg]  # mypy is not smart enough here\u001b[39;00m\n\u001b[1;32m--> 229\u001b[0m \u001b[38;5;28;01mraise\u001b[39;00m exception_class(message, screen, stacktrace)\n",
      "\u001b[1;31mNoSuchElementException\u001b[0m: Message: no such element: Unable to locate element: {\"method\":\"css selector\",\"selector\":\".listing-item__properties\"}\n  (Session info: chrome=117.0.5938.89); For documentation on this error, please visit: https://www.selenium.dev/documentation/webdriver/troubleshooting/errors#no-such-element-exception\nStacktrace:\n\tGetHandleVerifier [0x00007FF6341C7892+54818]\n\t(No symbol) [0x00007FF634136AC2]\n\t(No symbol) [0x00007FF633FEDA3B]\n\t(No symbol) [0x00007FF63402E4FC]\n\t(No symbol) [0x00007FF63402E67C]\n\t(No symbol) [0x00007FF634069627]\n\t(No symbol) [0x00007FF63404EAEF]\n\t(No symbol) [0x00007FF6340675A2]\n\t(No symbol) [0x00007FF63404E883]\n\t(No symbol) [0x00007FF634023691]\n\t(No symbol) [0x00007FF6340248D4]\n\tGetHandleVerifier [0x00007FF63452B992+3610402]\n\tGetHandleVerifier [0x00007FF634581860+3962352]\n\tGetHandleVerifier [0x00007FF634579D4F+3930847]\n\tGetHandleVerifier [0x00007FF634263646+693206]\n\t(No symbol) [0x00007FF634141628]\n\t(No symbol) [0x00007FF63413D934]\n\t(No symbol) [0x00007FF63413DA62]\n\t(No symbol) [0x00007FF63412E113]\n\tBaseThreadInitThunk [0x00007FFA750C7344+20]\n\tRtlUserThreadStart [0x00007FFA759E26B1+33]\n"
     ]
    }
   ],
   "source": [
    "(name,chambre,prix,date_time,local)=Take_elements(a)"
   ]
  },
  {
   "cell_type": "code",
   "execution_count": 58,
   "id": "f49912ff",
   "metadata": {},
   "outputs": [],
   "source": [
    "# make a dictionnaire for arange the data\n",
    "data={'date':date_time, 'description':name, 'nombre_chambre':chambre, 'localisation': local, 'prix':prix}"
   ]
  },
  {
   "cell_type": "code",
   "execution_count": 59,
   "id": "c926f7c3",
   "metadata": {},
   "outputs": [],
   "source": [
    "# create a dataframe from the dictionnaire\n",
    "dt=pd.DataFrame(data)"
   ]
  },
  {
   "cell_type": "code",
   "execution_count": 60,
   "id": "d0ca29dc",
   "metadata": {},
   "outputs": [
    {
     "data": {
      "text/html": [
       "<div>\n",
       "<style scoped>\n",
       "    .dataframe tbody tr th:only-of-type {\n",
       "        vertical-align: middle;\n",
       "    }\n",
       "\n",
       "    .dataframe tbody tr th {\n",
       "        vertical-align: top;\n",
       "    }\n",
       "\n",
       "    .dataframe thead th {\n",
       "        text-align: right;\n",
       "    }\n",
       "</style>\n",
       "<table border=\"1\" class=\"dataframe\">\n",
       "  <thead>\n",
       "    <tr style=\"text-align: right;\">\n",
       "      <th></th>\n",
       "      <th>date</th>\n",
       "      <th>description</th>\n",
       "      <th>nombre_chambre</th>\n",
       "      <th>localisation</th>\n",
       "      <th>prix</th>\n",
       "    </tr>\n",
       "  </thead>\n",
       "  <tbody>\n",
       "    <tr>\n",
       "      <th>0</th>\n",
       "      <td>30. avr., 15:10</td>\n",
       "      <td>MARINA IMMO APPART</td>\n",
       "      <td>Chambres\\n3\\nSalle de Bain\\n4\\nMètres carrés\\n...</td>\n",
       "      <td>Liberte 2 Dakar</td>\n",
       "      <td>85 000 F Cfa</td>\n",
       "    </tr>\n",
       "    <tr>\n",
       "      <th>1</th>\n",
       "      <td>11. juil., 13:16</td>\n",
       "      <td>Appartement F4 à Ouest- foire</td>\n",
       "      <td>Chambres\\n3\\nSalle de Bain\\n2</td>\n",
       "      <td>Ouest foire Dakar</td>\n",
       "      <td>300 000 F Cfa</td>\n",
       "    </tr>\n",
       "    <tr>\n",
       "      <th>2</th>\n",
       "      <td>20. avr., 11:57</td>\n",
       "      <td>Appartement à sacré coeur 1</td>\n",
       "      <td>Chambres\\n2\\nSalle de Bain\\n3</td>\n",
       "      <td>Sacré-cœur Dakar</td>\n",
       "      <td>400 000 F Cfa</td>\n",
       "    </tr>\n",
       "    <tr>\n",
       "      <th>3</th>\n",
       "      <td>10. mars, 10:03</td>\n",
       "      <td>Appartement à vendre résidence ATAYA</td>\n",
       "      <td>Chambres\\n4\\nSalle de Bain\\n5\\nMètres carrés\\n...</td>\n",
       "      <td>Yoff Dakar</td>\n",
       "      <td>100 000 000 F Cfa</td>\n",
       "    </tr>\n",
       "    <tr>\n",
       "      <th>4</th>\n",
       "      <td>22. févr., 11:43</td>\n",
       "      <td>Appartement à louer au virage</td>\n",
       "      <td>Chambres\\n3\\nSalle de Bain\\n3\\nMètres carrés\\n...</td>\n",
       "      <td>Virage Dakar</td>\n",
       "      <td>550 000 F Cfa</td>\n",
       "    </tr>\n",
       "    <tr>\n",
       "      <th>5</th>\n",
       "      <td>20. févr., 13:51</td>\n",
       "      <td>Appartement neuf à sotrac mermoz</td>\n",
       "      <td>Chambres\\n2\\nSalle de Bain\\n2</td>\n",
       "      <td>Mermoz Dakar</td>\n",
       "      <td>480 000 F Cfa</td>\n",
       "    </tr>\n",
       "    <tr>\n",
       "      <th>6</th>\n",
       "      <td>8. juin, 19:24</td>\n",
       "      <td>Appartement standing sacré cœur 1</td>\n",
       "      <td>Chambres\\n3\\nSalle de Bain\\n4\\nMètres carrés\\n...</td>\n",
       "      <td>Sicap Sacré-cœur Dakar</td>\n",
       "      <td>500 000 F Cfa</td>\n",
       "    </tr>\n",
       "    <tr>\n",
       "      <th>7</th>\n",
       "      <td>25. janv., 13:55</td>\n",
       "      <td>Appartement à louer en ville</td>\n",
       "      <td>Chambres\\n3\\nSalle de Bain\\n2</td>\n",
       "      <td>Plateau Dakar</td>\n",
       "      <td>1 100 000 F Cfa</td>\n",
       "    </tr>\n",
       "    <tr>\n",
       "      <th>8</th>\n",
       "      <td>13. janv., 12:39</td>\n",
       "      <td>Appartement à louer à ngor</td>\n",
       "      <td>Chambres\\n2\\nSalle de Bain\\n2\\nMètres carrés\\n...</td>\n",
       "      <td>Ngor Dakar</td>\n",
       "      <td>300 000 F Cfa</td>\n",
       "    </tr>\n",
       "    <tr>\n",
       "      <th>9</th>\n",
       "      <td>30. déc. '22, 12:14</td>\n",
       "      <td>Appartement 3 chambres salon mamelles</td>\n",
       "      <td>Chambres\\n3\\nMètres carrés\\n125 m²</td>\n",
       "      <td>Mamelles Dakar</td>\n",
       "      <td>350 000 F Cfa</td>\n",
       "    </tr>\n",
       "  </tbody>\n",
       "</table>\n",
       "</div>"
      ],
      "text/plain": [
       "                  date                            description  \\\n",
       "0      30. avr., 15:10                     MARINA IMMO APPART   \n",
       "1     11. juil., 13:16          Appartement F4 à Ouest- foire   \n",
       "2      20. avr., 11:57            Appartement à sacré coeur 1   \n",
       "3      10. mars, 10:03   Appartement à vendre résidence ATAYA   \n",
       "4     22. févr., 11:43          Appartement à louer au virage   \n",
       "5     20. févr., 13:51       Appartement neuf à sotrac mermoz   \n",
       "6       8. juin, 19:24      Appartement standing sacré cœur 1   \n",
       "7     25. janv., 13:55           Appartement à louer en ville   \n",
       "8     13. janv., 12:39             Appartement à louer à ngor   \n",
       "9  30. déc. '22, 12:14  Appartement 3 chambres salon mamelles   \n",
       "\n",
       "                                      nombre_chambre            localisation  \\\n",
       "0  Chambres\\n3\\nSalle de Bain\\n4\\nMètres carrés\\n...         Liberte 2 Dakar   \n",
       "1                      Chambres\\n3\\nSalle de Bain\\n2       Ouest foire Dakar   \n",
       "2                      Chambres\\n2\\nSalle de Bain\\n3        Sacré-cœur Dakar   \n",
       "3  Chambres\\n4\\nSalle de Bain\\n5\\nMètres carrés\\n...              Yoff Dakar   \n",
       "4  Chambres\\n3\\nSalle de Bain\\n3\\nMètres carrés\\n...            Virage Dakar   \n",
       "5                      Chambres\\n2\\nSalle de Bain\\n2            Mermoz Dakar   \n",
       "6  Chambres\\n3\\nSalle de Bain\\n4\\nMètres carrés\\n...  Sicap Sacré-cœur Dakar   \n",
       "7                      Chambres\\n3\\nSalle de Bain\\n2           Plateau Dakar   \n",
       "8  Chambres\\n2\\nSalle de Bain\\n2\\nMètres carrés\\n...              Ngor Dakar   \n",
       "9                 Chambres\\n3\\nMètres carrés\\n125 m²          Mamelles Dakar   \n",
       "\n",
       "                prix  \n",
       "0       85 000 F Cfa  \n",
       "1      300 000 F Cfa  \n",
       "2      400 000 F Cfa  \n",
       "3  100 000 000 F Cfa  \n",
       "4      550 000 F Cfa  \n",
       "5      480 000 F Cfa  \n",
       "6      500 000 F Cfa  \n",
       "7    1 100 000 F Cfa  \n",
       "8      300 000 F Cfa  \n",
       "9      350 000 F Cfa  "
      ]
     },
     "execution_count": 60,
     "metadata": {},
     "output_type": "execute_result"
    }
   ],
   "source": [
    "# output the firsts line\n",
    "dt"
   ]
  },
  {
   "cell_type": "code",
   "execution_count": 138,
   "id": "5e59d312",
   "metadata": {},
   "outputs": [],
   "source": [
    "# charge out data in a xlsx file\n",
    "dt.to_excel('appartement.xlsx')"
   ]
  },
  {
   "cell_type": "code",
   "execution_count": 62,
   "id": "a765500e",
   "metadata": {},
   "outputs": [
    {
     "ename": "IndexError",
     "evalue": "list index out of range",
     "output_type": "error",
     "traceback": [
      "\u001b[1;31m---------------------------------------------------------------------------\u001b[0m",
      "\u001b[1;31mIndexError\u001b[0m                                Traceback (most recent call last)",
      "Input \u001b[1;32mIn [62]\u001b[0m, in \u001b[0;36m<cell line: 1>\u001b[1;34m()\u001b[0m\n\u001b[1;32m----> 1\u001b[0m (name,chambre,prix,date_time,local)\u001b[38;5;241m=\u001b[39m\u001b[43mTakelink\u001b[49m\u001b[43m(\u001b[49m\u001b[38;5;241;43m1\u001b[39;49m\u001b[43m)\u001b[49m\n",
      "Input \u001b[1;32mIn [61]\u001b[0m, in \u001b[0;36mTakelink\u001b[1;34m(n)\u001b[0m\n\u001b[0;32m     25\u001b[0m \u001b[38;5;28;01mfor\u001b[39;00m i \u001b[38;5;129;01min\u001b[39;00m \u001b[38;5;28mrange\u001b[39m(\u001b[38;5;28mlen\u001b[39m(prc)):\n\u001b[0;32m     26\u001b[0m     name\u001b[38;5;241m.\u001b[39mappend(descrip[i]\u001b[38;5;241m.\u001b[39mtext)\n\u001b[1;32m---> 27\u001b[0m     chambre\u001b[38;5;241m.\u001b[39mappend(\u001b[43mnchanbre\u001b[49m\u001b[43m[\u001b[49m\u001b[43mi\u001b[49m\u001b[43m]\u001b[49m\u001b[38;5;241m.\u001b[39mtext)\n\u001b[0;32m     28\u001b[0m     prix\u001b[38;5;241m.\u001b[39mappend(prc[i]\u001b[38;5;241m.\u001b[39mtext)\n\u001b[0;32m     29\u001b[0m     date_time\u001b[38;5;241m.\u001b[39mappend(date[i]\u001b[38;5;241m.\u001b[39mtext)\n",
      "\u001b[1;31mIndexError\u001b[0m: list index out of range"
     ]
    }
   ],
   "source": [
    "(name,chambre,prix,date_time,local)=Takelink(1)"
   ]
  },
  {
   "cell_type": "code",
   "execution_count": null,
   "id": "fbfbeab4",
   "metadata": {},
   "outputs": [],
   "source": []
  }
 ],
 "metadata": {
  "kernelspec": {
   "display_name": "Python 3 (ipykernel)",
   "language": "python",
   "name": "python3"
  },
  "language_info": {
   "codemirror_mode": {
    "name": "ipython",
    "version": 3
   },
   "file_extension": ".py",
   "mimetype": "text/x-python",
   "name": "python",
   "nbconvert_exporter": "python",
   "pygments_lexer": "ipython3",
   "version": "3.9.12"
  }
 },
 "nbformat": 4,
 "nbformat_minor": 5
}
