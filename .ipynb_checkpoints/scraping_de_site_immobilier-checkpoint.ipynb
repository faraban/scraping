{
 "cells": [
  {
   "cell_type": "code",
   "execution_count": 1,
   "id": "79e1efbe",
   "metadata": {},
   "outputs": [],
   "source": [
    "import pandas as pd\n",
    "import numpy as np"
   ]
  },
  {
   "cell_type": "code",
   "execution_count": 2,
   "id": "1c93d995",
   "metadata": {},
   "outputs": [],
   "source": [
    "from selenium import webdriver\n",
    "from selenium.webdriver.common.by import By\n",
    "from selenium.webdriver.common.keys import Keys"
   ]
  },
  {
   "cell_type": "code",
   "execution_count": 3,
   "id": "3c4cdb9c",
   "metadata": {},
   "outputs": [],
   "source": [
    "search=driver.find_element(By.ID,\"q\")\n",
    "search.send_keys('appartement')\n",
    "box=driver.find_element(By.CLASS_NAME,\"i.i-magnify.global-search__button__icon\").click()"
   ]
  },
  {
   "cell_type": "code",
   "execution_count": 18,
   "id": "13419405",
   "metadata": {},
   "outputs": [],
   "source": [
    "# extraction de donnee\n",
    "\n",
    "driver = webdriver.Chrome()\n",
    "\n",
    "name=[]\n",
    "chanbre=[]\n",
    "prix=[]\n",
    "date_time=[]\n",
    "local=[]\n",
    "\n",
    "for i in range(1,2):\n",
    "    driver.get(f'https://www.expat-dakar.com/immobilier?page={i}')\n",
    "    \n",
    "    descrip = driver.find_elements(By.CLASS_NAME,'listing-card__header__title')\n",
    "    nchanbre = driver.find_elements(By.CLASS_NAME,'listing-card__header__tags')\n",
    "    prc = driver.find_elements(By.CLASS_NAME,'listing-card__price')\n",
    "    date = driver.find_elements(By.CLASS_NAME,'listing-card__date-line')\n",
    "    lieu = driver.find_elements(By.CLASS_NAME,'listing-card__header__location')\n",
    "    \n",
    "    for i in range(len(prc)):\n",
    "        name.append(descrip[i].text)\n",
    "        chanbre.append(nchanbre[i].text)\n",
    "        prix.append(prc[i].text)\n",
    "        date_time.append(date[i].text)\n",
    "        local.append(lieu[i].text)\n",
    "        "
   ]
  },
  {
   "cell_type": "code",
   "execution_count": 17,
   "id": "7575f2ac",
   "metadata": {},
   "outputs": [
    {
     "data": {
      "text/plain": [
       "['5. sept., 12:08',\n",
       " '18. août, 13:18',\n",
       " \"Aujourd'hui, 09:57\",\n",
       " \"Aujourd'hui, 09:49\",\n",
       " \"Aujourd'hui, 09:49\",\n",
       " \"Aujourd'hui, 09:48\",\n",
       " \"Aujourd'hui, 09:48\",\n",
       " \"Aujourd'hui, 09:48\",\n",
       " \"Aujourd'hui, 09:48\",\n",
       " \"Aujourd'hui, 09:15\",\n",
       " \"Aujourd'hui, 08:48\",\n",
       " '21. juin, 12:20']"
      ]
     },
     "execution_count": 17,
     "metadata": {},
     "output_type": "execute_result"
    }
   ],
   "source": [
    "local"
   ]
  },
  {
   "cell_type": "code",
   "execution_count": null,
   "id": "cec8250c",
   "metadata": {},
   "outputs": [],
   "source": []
  }
 ],
 "metadata": {
  "kernelspec": {
   "display_name": "Python 3 (ipykernel)",
   "language": "python",
   "name": "python3"
  },
  "language_info": {
   "codemirror_mode": {
    "name": "ipython",
    "version": 3
   },
   "file_extension": ".py",
   "mimetype": "text/x-python",
   "name": "python",
   "nbconvert_exporter": "python",
   "pygments_lexer": "ipython3",
   "version": "3.9.12"
  }
 },
 "nbformat": 4,
 "nbformat_minor": 5
}
