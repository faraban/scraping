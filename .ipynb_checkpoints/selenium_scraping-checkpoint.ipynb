{
 "cells": [
  {
   "cell_type": "code",
   "execution_count": 23,
   "id": "fc27102c",
   "metadata": {},
   "outputs": [],
   "source": [
    "# importer pandas et numpy\n",
    "import numpy as np\n",
    "import pandas as pd\n",
    "from time import sleep"
   ]
  },
  {
   "cell_type": "code",
   "execution_count": 20,
   "id": "f1c27856",
   "metadata": {},
   "outputs": [],
   "source": [
    "# importer webdriver by et keys\n",
    "from selenium import webdriver\n",
    "from selenium.webdriver.common.by import By\n",
    "from selenium.webdriver.common.keys import Keys"
   ]
  },
  {
   "cell_type": "code",
   "execution_count": 29,
   "id": "218cd653",
   "metadata": {
    "scrolled": true
   },
   "outputs": [],
   "source": [
    "# recupperation des infos sur le site\n",
    "driver = webdriver.Chrome()\n",
    "driver.get('https://www.jumia.ci')\n",
    "search_box=driver.find_element(By.ID, \"fi-q\")\n",
    "search_box.clear()\n",
    "search_box.send_keys(\"Ordinateurs portables\")\n",
    "search_box.submit()\n",
    "\n",
    "ordi=driver.find_elements(By.CLASS_NAME, \"name\")\n",
    "prix=driver.find_elements(By.CLASS_NAME, \"prc\")\n",
    "\n",
    "for i in range(2,51):\n",
    "    driver.get(f'https://www.jumia.ci/catalog/?q=ordinateurs+portables&page={i}#catalog-listing')\n",
    "    newordi=driver.find_elements(By.CLASS_NAME, \"name\")\n",
    "    newprix=driver.find_elements(By.CLASS_NAME, \"prc\")\n",
    "    sleep(1)\n",
    "    ordi=ordi+newordi\n",
    "    prix=prix+newprix"
   ]
  },
  {
   "cell_type": "code",
   "execution_count": 30,
   "id": "1c03d50a",
   "metadata": {},
   "outputs": [
    {
     "data": {
      "text/plain": [
       "2000"
      ]
     },
     "execution_count": 30,
     "metadata": {},
     "output_type": "execute_result"
    }
   ],
   "source": [
    "len(prix)"
   ]
  },
  {
   "cell_type": "code",
   "execution_count": 31,
   "id": "5feab089",
   "metadata": {},
   "outputs": [
    {
     "ename": "StaleElementReferenceException",
     "evalue": "Message: stale element reference: stale element not found\n  (Session info: chrome=117.0.5938.63); For documentation on this error, please visit: https://www.selenium.dev/documentation/webdriver/troubleshooting/errors#stale-element-reference-exception\nStacktrace:\n\tGetHandleVerifier [0x00007FF62CE27862+54818]\n\t(No symbol) [0x00007FF62CD96A92]\n\t(No symbol) [0x00007FF62CC4DA3B]\n\t(No symbol) [0x00007FF62CC5B1FA]\n\t(No symbol) [0x00007FF62CC52859]\n\t(No symbol) [0x00007FF62CC51712]\n\t(No symbol) [0x00007FF62CC53F5F]\n\t(No symbol) [0x00007FF62CC54050]\n\t(No symbol) [0x00007FF62CC89D2E]\n\t(No symbol) [0x00007FF62CCAEAAA]\n\t(No symbol) [0x00007FF62CC85036]\n\t(No symbol) [0x00007FF62CCAECC0]\n\t(No symbol) [0x00007FF62CCC75A2]\n\t(No symbol) [0x00007FF62CCAE883]\n\t(No symbol) [0x00007FF62CC83691]\n\t(No symbol) [0x00007FF62CC848D4]\n\tGetHandleVerifier [0x00007FF62D18B962+3610402]\n\tGetHandleVerifier [0x00007FF62D1E1830+3962352]\n\tGetHandleVerifier [0x00007FF62D1D9D1F+3930847]\n\tGetHandleVerifier [0x00007FF62CEC3616+693206]\n\t(No symbol) [0x00007FF62CDA15F8]\n\t(No symbol) [0x00007FF62CD9D904]\n\t(No symbol) [0x00007FF62CD9DA32]\n\t(No symbol) [0x00007FF62CD8E0E3]\n\tBaseThreadInitThunk [0x00007FFF75087BD4+20]\n\tRtlUserThreadStart [0x00007FFF7540CED1+33]\n",
     "output_type": "error",
     "traceback": [
      "\u001b[1;31m---------------------------------------------------------------------------\u001b[0m",
      "\u001b[1;31mStaleElementReferenceException\u001b[0m            Traceback (most recent call last)",
      "Input \u001b[1;32mIn [31]\u001b[0m, in \u001b[0;36m<cell line: 3>\u001b[1;34m()\u001b[0m\n\u001b[0;32m      3\u001b[0m \u001b[38;5;28;01mfor\u001b[39;00m i \u001b[38;5;129;01min\u001b[39;00m \u001b[38;5;28mrange\u001b[39m(\u001b[38;5;28mlen\u001b[39m(ordi)):\n\u001b[0;32m      4\u001b[0m     infos\u001b[38;5;241m=\u001b[39m{}\n\u001b[1;32m----> 5\u001b[0m     infos[\u001b[38;5;124m'\u001b[39m\u001b[38;5;124mmodele\u001b[39m\u001b[38;5;124m'\u001b[39m]\u001b[38;5;241m=\u001b[39m \u001b[43mordi\u001b[49m\u001b[43m[\u001b[49m\u001b[43mi\u001b[49m\u001b[43m]\u001b[49m\u001b[38;5;241;43m.\u001b[39;49m\u001b[43mtext\u001b[49m\n\u001b[0;32m      6\u001b[0m     infos[\u001b[38;5;124m'\u001b[39m\u001b[38;5;124mprix\u001b[39m\u001b[38;5;124m'\u001b[39m]\u001b[38;5;241m=\u001b[39m prix[i]\u001b[38;5;241m.\u001b[39mtext\n\u001b[0;32m      7\u001b[0m     liste\u001b[38;5;241m.\u001b[39mappend(infos)\n",
      "File \u001b[1;32m~\\anaconda3\\lib\\site-packages\\selenium\\webdriver\\remote\\webelement.py:89\u001b[0m, in \u001b[0;36mWebElement.text\u001b[1;34m(self)\u001b[0m\n\u001b[0;32m     86\u001b[0m \u001b[38;5;129m@property\u001b[39m\n\u001b[0;32m     87\u001b[0m \u001b[38;5;28;01mdef\u001b[39;00m \u001b[38;5;21mtext\u001b[39m(\u001b[38;5;28mself\u001b[39m) \u001b[38;5;241m-\u001b[39m\u001b[38;5;241m>\u001b[39m \u001b[38;5;28mstr\u001b[39m:\n\u001b[0;32m     88\u001b[0m     \u001b[38;5;124;03m\"\"\"The text of the element.\"\"\"\u001b[39;00m\n\u001b[1;32m---> 89\u001b[0m     \u001b[38;5;28;01mreturn\u001b[39;00m \u001b[38;5;28;43mself\u001b[39;49m\u001b[38;5;241;43m.\u001b[39;49m\u001b[43m_execute\u001b[49m\u001b[43m(\u001b[49m\u001b[43mCommand\u001b[49m\u001b[38;5;241;43m.\u001b[39;49m\u001b[43mGET_ELEMENT_TEXT\u001b[49m\u001b[43m)\u001b[49m[\u001b[38;5;124m\"\u001b[39m\u001b[38;5;124mvalue\u001b[39m\u001b[38;5;124m\"\u001b[39m]\n",
      "File \u001b[1;32m~\\anaconda3\\lib\\site-packages\\selenium\\webdriver\\remote\\webelement.py:394\u001b[0m, in \u001b[0;36mWebElement._execute\u001b[1;34m(self, command, params)\u001b[0m\n\u001b[0;32m    392\u001b[0m     params \u001b[38;5;241m=\u001b[39m {}\n\u001b[0;32m    393\u001b[0m params[\u001b[38;5;124m\"\u001b[39m\u001b[38;5;124mid\u001b[39m\u001b[38;5;124m\"\u001b[39m] \u001b[38;5;241m=\u001b[39m \u001b[38;5;28mself\u001b[39m\u001b[38;5;241m.\u001b[39m_id\n\u001b[1;32m--> 394\u001b[0m \u001b[38;5;28;01mreturn\u001b[39;00m \u001b[38;5;28;43mself\u001b[39;49m\u001b[38;5;241;43m.\u001b[39;49m\u001b[43m_parent\u001b[49m\u001b[38;5;241;43m.\u001b[39;49m\u001b[43mexecute\u001b[49m\u001b[43m(\u001b[49m\u001b[43mcommand\u001b[49m\u001b[43m,\u001b[49m\u001b[43m \u001b[49m\u001b[43mparams\u001b[49m\u001b[43m)\u001b[49m\n",
      "File \u001b[1;32m~\\anaconda3\\lib\\site-packages\\selenium\\webdriver\\remote\\webdriver.py:344\u001b[0m, in \u001b[0;36mWebDriver.execute\u001b[1;34m(self, driver_command, params)\u001b[0m\n\u001b[0;32m    342\u001b[0m response \u001b[38;5;241m=\u001b[39m \u001b[38;5;28mself\u001b[39m\u001b[38;5;241m.\u001b[39mcommand_executor\u001b[38;5;241m.\u001b[39mexecute(driver_command, params)\n\u001b[0;32m    343\u001b[0m \u001b[38;5;28;01mif\u001b[39;00m response:\n\u001b[1;32m--> 344\u001b[0m     \u001b[38;5;28;43mself\u001b[39;49m\u001b[38;5;241;43m.\u001b[39;49m\u001b[43merror_handler\u001b[49m\u001b[38;5;241;43m.\u001b[39;49m\u001b[43mcheck_response\u001b[49m\u001b[43m(\u001b[49m\u001b[43mresponse\u001b[49m\u001b[43m)\u001b[49m\n\u001b[0;32m    345\u001b[0m     response[\u001b[38;5;124m\"\u001b[39m\u001b[38;5;124mvalue\u001b[39m\u001b[38;5;124m\"\u001b[39m] \u001b[38;5;241m=\u001b[39m \u001b[38;5;28mself\u001b[39m\u001b[38;5;241m.\u001b[39m_unwrap_value(response\u001b[38;5;241m.\u001b[39mget(\u001b[38;5;124m\"\u001b[39m\u001b[38;5;124mvalue\u001b[39m\u001b[38;5;124m\"\u001b[39m, \u001b[38;5;28;01mNone\u001b[39;00m))\n\u001b[0;32m    346\u001b[0m     \u001b[38;5;28;01mreturn\u001b[39;00m response\n",
      "File \u001b[1;32m~\\anaconda3\\lib\\site-packages\\selenium\\webdriver\\remote\\errorhandler.py:229\u001b[0m, in \u001b[0;36mErrorHandler.check_response\u001b[1;34m(self, response)\u001b[0m\n\u001b[0;32m    227\u001b[0m         alert_text \u001b[38;5;241m=\u001b[39m value[\u001b[38;5;124m\"\u001b[39m\u001b[38;5;124malert\u001b[39m\u001b[38;5;124m\"\u001b[39m]\u001b[38;5;241m.\u001b[39mget(\u001b[38;5;124m\"\u001b[39m\u001b[38;5;124mtext\u001b[39m\u001b[38;5;124m\"\u001b[39m)\n\u001b[0;32m    228\u001b[0m     \u001b[38;5;28;01mraise\u001b[39;00m exception_class(message, screen, stacktrace, alert_text)  \u001b[38;5;66;03m# type: ignore[call-arg]  # mypy is not smart enough here\u001b[39;00m\n\u001b[1;32m--> 229\u001b[0m \u001b[38;5;28;01mraise\u001b[39;00m exception_class(message, screen, stacktrace)\n",
      "\u001b[1;31mStaleElementReferenceException\u001b[0m: Message: stale element reference: stale element not found\n  (Session info: chrome=117.0.5938.63); For documentation on this error, please visit: https://www.selenium.dev/documentation/webdriver/troubleshooting/errors#stale-element-reference-exception\nStacktrace:\n\tGetHandleVerifier [0x00007FF62CE27862+54818]\n\t(No symbol) [0x00007FF62CD96A92]\n\t(No symbol) [0x00007FF62CC4DA3B]\n\t(No symbol) [0x00007FF62CC5B1FA]\n\t(No symbol) [0x00007FF62CC52859]\n\t(No symbol) [0x00007FF62CC51712]\n\t(No symbol) [0x00007FF62CC53F5F]\n\t(No symbol) [0x00007FF62CC54050]\n\t(No symbol) [0x00007FF62CC89D2E]\n\t(No symbol) [0x00007FF62CCAEAAA]\n\t(No symbol) [0x00007FF62CC85036]\n\t(No symbol) [0x00007FF62CCAECC0]\n\t(No symbol) [0x00007FF62CCC75A2]\n\t(No symbol) [0x00007FF62CCAE883]\n\t(No symbol) [0x00007FF62CC83691]\n\t(No symbol) [0x00007FF62CC848D4]\n\tGetHandleVerifier [0x00007FF62D18B962+3610402]\n\tGetHandleVerifier [0x00007FF62D1E1830+3962352]\n\tGetHandleVerifier [0x00007FF62D1D9D1F+3930847]\n\tGetHandleVerifier [0x00007FF62CEC3616+693206]\n\t(No symbol) [0x00007FF62CDA15F8]\n\t(No symbol) [0x00007FF62CD9D904]\n\t(No symbol) [0x00007FF62CD9DA32]\n\t(No symbol) [0x00007FF62CD8E0E3]\n\tBaseThreadInitThunk [0x00007FFF75087BD4+20]\n\tRtlUserThreadStart [0x00007FFF7540CED1+33]\n"
     ]
    }
   ],
   "source": [
    "# stockage des infos dans une liste\n",
    "liste=[]\n",
    "for i in range(len(ordi)):\n",
    "    infos={}\n",
    "    infos['modele']= ordi[i].text\n",
    "    infos['prix']= prix[i].text\n",
    "    liste.append(infos)\n"
   ]
  },
  {
   "cell_type": "code",
   "execution_count": 7,
   "id": "6b64c6b7",
   "metadata": {},
   "outputs": [],
   "source": [
    "data=pd.DataFrame(liste)"
   ]
  },
  {
   "cell_type": "code",
   "execution_count": 3,
   "id": "e4a89270",
   "metadata": {},
   "outputs": [],
   "source": [
    "# save it to a file\n",
    "with open(\"results.txt\", \"w\") as f:\n",
    "f.write(text)\n",
    "except Exception as e:\n",
    "print(f\"An error occurred: {e}\")\n",
    "# driver.quit()"
   ]
  },
  {
   "cell_type": "code",
   "execution_count": null,
   "id": "53230b18",
   "metadata": {},
   "outputs": [],
   "source": []
  }
 ],
 "metadata": {
  "kernelspec": {
   "display_name": "Python 3 (ipykernel)",
   "language": "python",
   "name": "python3"
  },
  "language_info": {
   "codemirror_mode": {
    "name": "ipython",
    "version": 3
   },
   "file_extension": ".py",
   "mimetype": "text/x-python",
   "name": "python",
   "nbconvert_exporter": "python",
   "pygments_lexer": "ipython3",
   "version": "3.9.12"
  }
 },
 "nbformat": 4,
 "nbformat_minor": 5
}
