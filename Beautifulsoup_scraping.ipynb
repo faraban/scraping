{
 "cells": [
  {
   "cell_type": "code",
   "execution_count": 42,
   "id": "29f095d9",
   "metadata": {},
   "outputs": [],
   "source": [
    "from bs4 import BeautifulSoup\n",
    "import requests as req"
   ]
  },
  {
   "cell_type": "code",
   "execution_count": 43,
   "id": "d4e0ad19",
   "metadata": {},
   "outputs": [],
   "source": [
    "def takepage(site):\n",
    "    urls=[site]\n",
    "    p=2\n",
    "    for i in range(2,19):\n",
    "        url=f\"https://www.jumia.ci/pc-portables/?page={i}#catalog-listing\"\n",
    "        urls.append(url)\n",
    "    return urls"
   ]
  },
  {
   "cell_type": "code",
   "execution_count": 44,
   "id": "c0bcbb8d",
   "metadata": {},
   "outputs": [],
   "source": [
    "def scrap(site):\n",
    "    url= req.get(site)\n",
    "    soup= BeautifulSoup(url.content, \"html.parser\")\n",
    "    phone=soup.find_all('h3',class_='name')\n",
    "    nphone=[]\n",
    "    for i in phone:\n",
    "        n=i.text\n",
    "        nphone.append(n)\n",
    "    return nphone"
   ]
  },
  {
   "cell_type": "code",
   "execution_count": 45,
   "id": "0f475d76",
   "metadata": {},
   "outputs": [],
   "source": [
    "def scraping(site):\n",
    "    data=[]\n",
    "    urls=takepage(site)\n",
    "    for i in urls:\n",
    "        z=scrap(i)\n",
    "        data.append(z)\n",
    "    return data"
   ]
  },
  {
   "cell_type": "code",
   "execution_count": 49,
   "id": "13c2e5bf",
   "metadata": {},
   "outputs": [],
   "source": [
    "site=\"https://www.jumia.ci/pc-portables\"\n",
    "scraping(site)"
   ]
  },
  {
   "cell_type": "code",
   "execution_count": null,
   "id": "e4e920b7",
   "metadata": {},
   "outputs": [],
   "source": []
  }
 ],
 "metadata": {
  "kernelspec": {
   "display_name": "Python 3 (ipykernel)",
   "language": "python",
   "name": "python3"
  },
  "language_info": {
   "codemirror_mode": {
    "name": "ipython",
    "version": 3
   },
   "file_extension": ".py",
   "mimetype": "text/x-python",
   "name": "python",
   "nbconvert_exporter": "python",
   "pygments_lexer": "ipython3",
   "version": "3.9.12"
  }
 },
 "nbformat": 4,
 "nbformat_minor": 5
}
