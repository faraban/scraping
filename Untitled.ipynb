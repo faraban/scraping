{
 "cells": [
  {
   "cell_type": "code",
   "execution_count": 114,
   "id": "da219b7a",
   "metadata": {},
   "outputs": [],
   "source": [
    "#     try:\n",
    "        \n",
    "#     except Exception:\n",
    "#         print('none')\n",
    "#         continue"
   ]
  }
 ],
 "metadata": {
  "kernelspec": {
   "display_name": "Python 3 (ipykernel)",
   "language": "python",
   "name": "python3"
  },
  "language_info": {
   "codemirror_mode": {
    "name": "ipython",
    "version": 3
   },
   "file_extension": ".py",
   "mimetype": "text/x-python",
   "name": "python",
   "nbconvert_exporter": "python",
   "pygments_lexer": "ipython3",
   "version": "3.9.12"
  }
 },
 "nbformat": 4,
 "nbformat_minor": 5
}
