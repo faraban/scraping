{
 "cells": [
  {
   "cell_type": "code",
   "execution_count": 1,
   "id": "fae1518d",
   "metadata": {},
   "outputs": [],
   "source": [
    "from selenium import webdriver\n",
    "from selenium.webdriver.common.by import By\n",
    "from selenium.webdriver.common.keys import Keys"
   ]
  },
  {
   "cell_type": "code",
   "execution_count": 17,
   "id": "dcc2725a",
   "metadata": {},
   "outputs": [
    {
     "name": "stdout",
     "output_type": "stream",
     "text": [
      "<selenium.webdriver.remote.webelement.WebElement (session=\"6649edd3d30d886b09de516c81a0061f\", element=\"BE4C4058CF9F3D2E106FA52047CA0BAF_element_71\")>\n",
      "<selenium.webdriver.remote.webelement.WebElement (session=\"6649edd3d30d886b09de516c81a0061f\", element=\"BE4C4058CF9F3D2E106FA52047CA0BAF_element_72\")>\n",
      "<selenium.webdriver.remote.webelement.WebElement (session=\"6649edd3d30d886b09de516c81a0061f\", element=\"BE4C4058CF9F3D2E106FA52047CA0BAF_element_73\")>\n",
      "<selenium.webdriver.remote.webelement.WebElement (session=\"6649edd3d30d886b09de516c81a0061f\", element=\"BE4C4058CF9F3D2E106FA52047CA0BAF_element_74\")>\n",
      "<selenium.webdriver.remote.webelement.WebElement (session=\"6649edd3d30d886b09de516c81a0061f\", element=\"BE4C4058CF9F3D2E106FA52047CA0BAF_element_75\")>\n",
      "<selenium.webdriver.remote.webelement.WebElement (session=\"6649edd3d30d886b09de516c81a0061f\", element=\"BE4C4058CF9F3D2E106FA52047CA0BAF_element_76\")>\n",
      "<selenium.webdriver.remote.webelement.WebElement (session=\"6649edd3d30d886b09de516c81a0061f\", element=\"BE4C4058CF9F3D2E106FA52047CA0BAF_element_77\")>\n",
      "<selenium.webdriver.remote.webelement.WebElement (session=\"6649edd3d30d886b09de516c81a0061f\", element=\"BE4C4058CF9F3D2E106FA52047CA0BAF_element_78\")>\n",
      "<selenium.webdriver.remote.webelement.WebElement (session=\"6649edd3d30d886b09de516c81a0061f\", element=\"BE4C4058CF9F3D2E106FA52047CA0BAF_element_79\")>\n",
      "<selenium.webdriver.remote.webelement.WebElement (session=\"6649edd3d30d886b09de516c81a0061f\", element=\"BE4C4058CF9F3D2E106FA52047CA0BAF_element_80\")>\n",
      "<selenium.webdriver.remote.webelement.WebElement (session=\"6649edd3d30d886b09de516c81a0061f\", element=\"BE4C4058CF9F3D2E106FA52047CA0BAF_element_81\")>\n",
      "<selenium.webdriver.remote.webelement.WebElement (session=\"6649edd3d30d886b09de516c81a0061f\", element=\"BE4C4058CF9F3D2E106FA52047CA0BAF_element_82\")>\n"
     ]
    }
   ],
   "source": [
    "driver = webdriver.Chrome()\n",
    "driver.get('https://www.expat-dakar.com/immobilier')\n",
    "# search=driver.find_element(By.ID,\"q\")\n",
    "# search.send_keys('appartement')\n",
    "elements=driver.find_elements(By.CLASS_NAME,\"listing-card__image__inner\")\n",
    "for i in elements:\n",
    "    i.click\n",
    "    print(i)"
   ]
  },
  {
   "cell_type": "code",
   "execution_count": 12,
   "id": "b0ecc0da",
   "metadata": {},
   "outputs": [
    {
     "data": {
      "text/plain": [
       "12"
      ]
     },
     "execution_count": 12,
     "metadata": {},
     "output_type": "execute_result"
    }
   ],
   "source": [
    "len(elements)"
   ]
  },
  {
   "cell_type": "code",
   "execution_count": null,
   "id": "4aebc3ac",
   "metadata": {},
   "outputs": [],
   "source": []
  }
 ],
 "metadata": {
  "kernelspec": {
   "display_name": "Python 3 (ipykernel)",
   "language": "python",
   "name": "python3"
  },
  "language_info": {
   "codemirror_mode": {
    "name": "ipython",
    "version": 3
   },
   "file_extension": ".py",
   "mimetype": "text/x-python",
   "name": "python",
   "nbconvert_exporter": "python",
   "pygments_lexer": "ipython3",
   "version": "3.9.12"
  }
 },
 "nbformat": 4,
 "nbformat_minor": 5
}
