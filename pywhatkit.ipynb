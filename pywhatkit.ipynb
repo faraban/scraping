{
 "cells": [
  {
   "cell_type": "markdown",
   "id": "d0e67b3e",
   "metadata": {},
   "source": [
    "## LA BIBLIOTHEQUE PYWHATKIT"
   ]
  },
  {
   "cell_type": "code",
   "execution_count": 47,
   "id": "87f8d0c8",
   "metadata": {},
   "outputs": [],
   "source": [
    "import pywhatkit as kit"
   ]
  },
  {
   "cell_type": "code",
   "execution_count": 6,
   "id": "8ec9276a",
   "metadata": {},
   "outputs": [],
   "source": [
    "b=kit.image_to_ascii_art('R2.jpg')"
   ]
  },
  {
   "cell_type": "code",
   "execution_count": 20,
   "id": "f37cbcaa",
   "metadata": {},
   "outputs": [
    {
     "name": "stdout",
     "output_type": "stream",
     "text": [
      "Football is a family of team sports that involve, to varying degrees, kicking a ball to score a goal.  Unqualified, the word football normally means the form of football that is the most popular where the word is used. Sports commonly called football include association football (known as soccer in North America, Ireland and Australia); gridiron football (specifically American football or Canadian football); Australian rules football; rugby union and rugby league; and Gaelic football. These various forms of football share to varying extents common origins and are known as \"football codes\".\n",
      "There are a number of references to traditional, ancient, or prehistoric ball games played in many different parts of the world. Contemporary codes of football can be traced back to the codification of these games at English public schools during the 19th century. The expansion and cultural influence of the British Empire allowed these rules of football to spread to areas of British influence outside the directly controlled Empire. By the end of the 19th century, distinct regional codes were already developing: Gaelic football, for example, deliberately incorporated the rules of local traditional football games in order to maintain their heritage. In 1888, The Football League was founded in England, becoming the first of many professional football associations. During the 20th century, several of the various kinds of football grew to become some of the most popular team sports in the world.\n"
     ]
    }
   ],
   "source": [
    "kit.info('football',10)"
   ]
  },
  {
   "cell_type": "code",
   "execution_count": 12,
   "id": "6eed752a",
   "metadata": {},
   "outputs": [
    {
     "data": {
      "text/plain": [
       "'https://www.youtube.com/watch?v=eiCLOcW9GiM\\\\\\\\u0026pp=ygUFbWVzc2k%3D'"
      ]
     },
     "execution_count": 12,
     "metadata": {},
     "output_type": "execute_result"
    }
   ],
   "source": [
    "kit.playonyt(\"messi\",False,False)"
   ]
  },
  {
   "cell_type": "code",
   "execution_count": 19,
   "id": "92e38a14",
   "metadata": {},
   "outputs": [],
   "source": [
    "kit.search('messi')"
   ]
  },
  {
   "cell_type": "code",
   "execution_count": 18,
   "id": "e0be3d77",
   "metadata": {},
   "outputs": [
    {
     "name": "stdout",
     "output_type": "stream",
     "text": [
      "Date: 11/9/2023\n",
      "Time: 15:4\n",
      "Phone Number: +2250141655260\n",
      "Message: hello, how are you?\n",
      "--------------------\n",
      "Date: 11/9/2023\n",
      "Time: 15:8\n",
      "Phone Number: +2250141655260\n",
      "Message: hello, how are you?\n",
      "--------------------\n",
      "Date: 11/9/2023\n",
      "Time: 15:17\n",
      "Phone Number: +2250141655260\n",
      "Message: hello, how are you?\n",
      "--------------------\n",
      "Date: 11/9/2023\n",
      "Time: 15:30\n",
      "Phone Number: +2250141655260\n",
      "Message: image.jpg\n",
      "--------------------\n",
      "Date: 11/9/2023\n",
      "Time: 15:54\n",
      "Phone Number: +2250141655260\n",
      "Image: image.jpg\n",
      "Caption: A thumbnail\n",
      "--------------------\n",
      "Date: 11/9/2023\n",
      "Time: 15:56\n",
      "Phone Number: +2250141655260\n",
      "Image: image.jpg\n",
      "Caption: A thumbnail\n",
      "--------------------\n",
      "Date: 11/9/2023\n",
      "Time: 15:58\n",
      "Phone Number: +2250141655260\n",
      "Image: image.jpg\n",
      "Caption: A thumbnail\n",
      "--------------------\n",
      "Date: 11/9/2023\n",
      "Time: 15:59\n",
      "Phone Number: +2250141655260\n",
      "Image: image.jpg\n",
      "Caption: A thumbnail\n",
      "--------------------\n",
      "Date: 11/9/2023\n",
      "Time: 16:4\n",
      "Phone Number: +2250141655260\n",
      "Image: image.jpg\n",
      "Caption: A thumbnail\n",
      "--------------------\n",
      "Date: 11/9/2023\n",
      "Time: 16:14\n",
      "Phone Number: +2250141655260\n",
      "Image: image.jpg\n",
      "Caption: A thumbnail\n",
      "--------------------\n",
      "Date: 11/9/2023\n",
      "Time: 16:34\n",
      "Phone Number: +2250141655260\n",
      "Image: image.jpg\n",
      "Caption: \n",
      "--------------------\n",
      "Date: 11/9/2023\n",
      "Time: 16:39\n",
      "Phone Number: +2250141655260\n",
      "Image: image.jpg\n",
      "Caption: \n",
      "--------------------\n",
      "Date: 11/9/2023\n",
      "Time: 16:42\n",
      "Phone Number: +2250141655260\n",
      "Image: image.jpg\n",
      "Caption: \n",
      "--------------------\n",
      "Date: 11/9/2023\n",
      "Time: 16:44\n",
      "Phone Number: +2250141655260\n",
      "Image: image.jpg\n",
      "Caption: \n",
      "--------------------\n",
      "Date: 11/9/2023\n",
      "Time: 16:44\n",
      "Phone Number: +2250141655260\n",
      "Image: R.jpg\n",
      "Caption: \n",
      "--------------------\n",
      "Date: 11/9/2023\n",
      "Time: 16:44\n",
      "Phone Number: +2250141655260\n",
      "Image: R2.jpg\n",
      "Caption: \n",
      "--------------------\n",
      "Date: 11/9/2023\n",
      "Time: 16:44\n",
      "Phone Number: +2250141655260\n",
      "Image: R3.jpg\n",
      "Caption: \n",
      "--------------------\n",
      "Date: 11/9/2023\n",
      "Time: 16:45\n",
      "Phone Number: +2250141655260\n",
      "Image: R4.jpg\n",
      "Caption: \n",
      "--------------------\n",
      "Date: 11/9/2023\n",
      "Time: 16:51\n",
      "Group ID: AB123CDEFGHijklmn\n",
      "Image: image.jpg\n",
      "Caption: \n",
      "--------------------\n",
      "Date: 11/9/2023\n",
      "Time: 16:51\n",
      "Group ID: AB123CDEFGHijklmn\n",
      "Image: R.jpg\n",
      "Caption: \n",
      "--------------------\n",
      "Date: 11/9/2023\n",
      "Time: 16:51\n",
      "Group ID: AB123CDEFGHijklmn\n",
      "Image: R2.jpg\n",
      "Caption: \n",
      "--------------------\n",
      "Date: 11/9/2023\n",
      "Time: 16:51\n",
      "Group ID: AB123CDEFGHijklmn\n",
      "Image: R3.jpg\n",
      "Caption: \n",
      "--------------------\n",
      "Date: 11/9/2023\n",
      "Time: 16:51\n",
      "Group ID: AB123CDEFGHijklmn\n",
      "Image: R4.jpg\n",
      "Caption: \n",
      "--------------------\n",
      "Date: 11/9/2023\n",
      "Time: 16:56\n",
      "Group ID: Glv5VFpYeHnAYNLaaZTyg9\n",
      "Image: image.jpg\n",
      "Caption: \n",
      "--------------------\n",
      "Date: 11/9/2023\n",
      "Time: 16:56\n",
      "Group ID: Glv5VFpYeHnAYNLaaZTyg9\n",
      "Image: R.jpg\n",
      "Caption: \n",
      "--------------------\n",
      "Date: 11/9/2023\n",
      "Time: 16:56\n",
      "Group ID: Glv5VFpYeHnAYNLaaZTyg9\n",
      "Image: R2.jpg\n",
      "Caption: \n",
      "--------------------\n",
      "Date: 11/9/2023\n",
      "Time: 16:57\n",
      "Group ID: Glv5VFpYeHnAYNLaaZTyg9\n",
      "Image: R3.jpg\n",
      "Caption: \n",
      "--------------------\n",
      "Date: 11/9/2023\n",
      "Time: 16:57\n",
      "Group ID: Glv5VFpYeHnAYNLaaZTyg9\n",
      "Image: R4.jpg\n",
      "Caption: \n",
      "--------------------\n",
      "Date: 11/9/2023\n",
      "Time: 17:4\n",
      "Group ID: Glv5VFpYeHnAYNLaaZTyg9\n",
      "Image: image.jpg\n",
      "Caption: \n",
      "--------------------\n",
      "Date: 11/9/2023\n",
      "Time: 17:4\n",
      "Group ID: Glv5VFpYeHnAYNLaaZTyg9\n",
      "Image: R.jpg\n",
      "Caption: \n",
      "--------------------\n",
      "Date: 11/9/2023\n",
      "Time: 17:4\n",
      "Group ID: Glv5VFpYeHnAYNLaaZTyg9\n",
      "Image: R2.jpg\n",
      "Caption: \n",
      "--------------------\n",
      "Date: 11/9/2023\n",
      "Time: 17:4\n",
      "Group ID: Glv5VFpYeHnAYNLaaZTyg9\n",
      "Image: R3.jpg\n",
      "Caption: \n",
      "--------------------\n",
      "Date: 11/9/2023\n",
      "Time: 17:5\n",
      "Group ID: Glv5VFpYeHnAYNLaaZTyg9\n",
      "Image: R4.jpg\n",
      "Caption: \n",
      "--------------------\n",
      "\n"
     ]
    }
   ],
   "source": [
    "kit.show_history() #possibilite d'efface"
   ]
  },
  {
   "cell_type": "code",
   "execution_count": 25,
   "id": "558778b5",
   "metadata": {},
   "outputs": [],
   "source": [
    "kit.take_screenshot(60) # image non enregistre"
   ]
  },
  {
   "cell_type": "code",
   "execution_count": 24,
   "id": "0283067c",
   "metadata": {},
   "outputs": [
    {
     "data": {
      "text/plain": [
       "True"
      ]
     },
     "execution_count": 24,
     "metadata": {},
     "output_type": "execute_result"
    }
   ],
   "source": [
    "kit.open_web()"
   ]
  },
  {
   "cell_type": "code",
   "execution_count": 41,
   "id": "f4dc3806",
   "metadata": {},
   "outputs": [],
   "source": [
    "emailr=\"farabanlaminecamara1995@gmail.com\"\n",
    "emaile=\"cl.faraban@gmail.com\"\n",
    "passw=\"ycrqvonuzqdjhkev\"\n",
    "msg=\"R2.jpg\""
   ]
  },
  {
   "cell_type": "code",
   "execution_count": 42,
   "id": "003d2074",
   "metadata": {},
   "outputs": [
    {
     "name": "stdout",
     "output_type": "stream",
     "text": [
      "Email Sent Successfully!\n"
     ]
    }
   ],
   "source": [
    "kit.send_mail(emile,passw,\"test mail\",msg,emailr)"
   ]
  },
  {
   "cell_type": "code",
   "execution_count": 44,
   "id": "3bec9be6",
   "metadata": {},
   "outputs": [],
   "source": [
    "code=\"a<html lang=\"fr\">\""
   ]
  },
  {
   "cell_type": "code",
   "execution_count": 45,
   "id": "8c1b47c1",
   "metadata": {},
   "outputs": [
    {
     "name": "stdout",
     "output_type": "stream",
     "text": [
      "Email Sent Successfully!\n"
     ]
    }
   ],
   "source": [
    "kit.send_hmail(emaile,passw,\"test mail\",code,emailr)"
   ]
  },
  {
   "cell_type": "code",
   "execution_count": 49,
   "id": "5726bcb5",
   "metadata": {},
   "outputs": [
    {
     "ename": "UnableToAccessApi",
     "evalue": "Unable to access Pywhatkit api right now",
     "output_type": "error",
     "traceback": [
      "\u001b[1;31m---------------------------------------------------------------------------\u001b[0m",
      "\u001b[1;31mUnableToAccessApi\u001b[0m                         Traceback (most recent call last)",
      "Input \u001b[1;32mIn [49]\u001b[0m, in \u001b[0;36m<cell line: 1>\u001b[1;34m()\u001b[0m\n\u001b[1;32m----> 1\u001b[0m \u001b[43mkit\u001b[49m\u001b[38;5;241;43m.\u001b[39;49m\u001b[43mtext_to_handwriting\u001b[49m\u001b[43m(\u001b[49m\u001b[38;5;124;43m\"\u001b[39;49m\u001b[38;5;124;43mHello\u001b[39;49m\u001b[38;5;124;43m\"\u001b[39;49m\u001b[43m,\u001b[49m\u001b[43m \u001b[49m\u001b[38;5;124;43m\"\u001b[39;49m\u001b[38;5;124;43mfilename.png\u001b[39;49m\u001b[38;5;124;43m\"\u001b[39;49m\u001b[43m,\u001b[49m\u001b[43m \u001b[49m\u001b[43m(\u001b[49m\u001b[38;5;241;43m0\u001b[39;49m\u001b[43m,\u001b[49m\u001b[43m \u001b[49m\u001b[38;5;241;43m0\u001b[39;49m\u001b[43m,\u001b[49m\u001b[43m \u001b[49m\u001b[38;5;241;43m138\u001b[39;49m\u001b[43m)\u001b[49m\u001b[43m)\u001b[49m\n",
      "File \u001b[1;32m~\\anaconda3\\lib\\site-packages\\pywhatkit\\handwriting.py:22\u001b[0m, in \u001b[0;36mtext_to_handwriting\u001b[1;34m(string, save_to, rgb)\u001b[0m\n\u001b[0;32m     20\u001b[0m         file\u001b[38;5;241m.\u001b[39mclose()\n\u001b[0;32m     21\u001b[0m \u001b[38;5;28;01melif\u001b[39;00m \u001b[38;5;241m400\u001b[39m \u001b[38;5;241m<\u001b[39m\u001b[38;5;241m=\u001b[39m status_code \u001b[38;5;241m<\u001b[39m\u001b[38;5;241m=\u001b[39m \u001b[38;5;241m599\u001b[39m:\n\u001b[1;32m---> 22\u001b[0m     \u001b[38;5;28;01mraise\u001b[39;00m exceptions\u001b[38;5;241m.\u001b[39mUnableToAccessApi(\u001b[38;5;124m\"\u001b[39m\u001b[38;5;124mUnable to access Pywhatkit api right now\u001b[39m\u001b[38;5;124m\"\u001b[39m)\n",
      "\u001b[1;31mUnableToAccessApi\u001b[0m: Unable to access Pywhatkit api right now"
     ]
    }
   ],
   "source": [
    "kit.text_to_handwriting(\"Hello\", \"filename.png\", (0, 0, 138))"
   ]
  },
  {
   "cell_type": "code",
   "execution_count": null,
   "id": "d867d735",
   "metadata": {},
   "outputs": [],
   "source": []
  }
 ],
 "metadata": {
  "kernelspec": {
   "display_name": "Python 3 (ipykernel)",
   "language": "python",
   "name": "python3"
  },
  "language_info": {
   "codemirror_mode": {
    "name": "ipython",
    "version": 3
   },
   "file_extension": ".py",
   "mimetype": "text/x-python",
   "name": "python",
   "nbconvert_exporter": "python",
   "pygments_lexer": "ipython3",
   "version": "3.9.12"
  }
 },
 "nbformat": 4,
 "nbformat_minor": 5
}
