{
 "cells": [
  {
   "cell_type": "code",
   "execution_count": 1,
   "id": "79e1efbe",
   "metadata": {},
   "outputs": [],
   "source": [
    "import pandas as pd\n",
    "import numpy as np"
   ]
  },
  {
   "cell_type": "code",
   "execution_count": 2,
   "id": "1c93d995",
   "metadata": {},
   "outputs": [],
   "source": [
    "from selenium import webdriver\n",
    "from selenium.webdriver.common.by import By\n",
    "from selenium.webdriver.common.keys import Keys"
   ]
  },
  {
   "cell_type": "code",
   "execution_count": 3,
   "id": "3c4cdb9c",
   "metadata": {},
   "outputs": [],
   "source": [
    "search=driver.find_element(By.ID,\"q\")\n",
    "search.send_keys('appartement')\n",
    "box=driver.find_element(By.CLASS_NAME,\"i.i-magnify.global-search__button__icon\").click()"
   ]
  },
  {
   "cell_type": "code",
   "execution_count": 33,
   "id": "13419405",
   "metadata": {},
   "outputs": [],
   "source": [
    "# extraction de donnee\n",
    "\n",
    "driver = webdriver.Chrome()\n",
    "\n",
    "name=[]\n",
    "chanbre=[]\n",
    "prix=[]\n",
    "date_time=[]\n",
    "local=[]\n",
    "\n",
    "for i in range(1,2):\n",
    "    driver.get(f'https://www.expat-dakar.com/immobilier?page={i}')\n",
    "    \n",
    "#     descrip = driver.find_elements(By.CLASS_NAME,'listing-card__header__title')\n",
    "#     nchanbre = driver.find_elements(By.CLASS_NAME,'listing-card__header__tags')\n",
    "    prc = driver.find_elements(By.XPATH,'//*[@id=\"listing-5468091\"]/div[2]/div/div[3]/div[1]/span/span')\n",
    "#     date = driver.find_elements(By.CLASS_NAME,'listing-card__date-line')\n",
    "#     lieu = driver.find_elements(By.CLASS_NAME,'listing-card__header__location')\n",
    "    \n",
    "    for i in range(len(prc)):\n",
    "#         name.append(descrip[i].text)\n",
    "#         chanbre.append(nchanbre[i].text)\n",
    "        prix.append(prc[i].text)\n",
    "#         date_time.append(date[i].text)\n",
    "#         local.append(lieu[i].text)\n",
    "        "
   ]
  },
  {
   "cell_type": "code",
   "execution_count": 34,
   "id": "9380c92b",
   "metadata": {},
   "outputs": [
    {
     "data": {
      "text/plain": [
       "[]"
      ]
     },
     "execution_count": 34,
     "metadata": {},
     "output_type": "execute_result"
    }
   ],
   "source": [
    "prix"
   ]
  },
  {
   "cell_type": "code",
   "execution_count": null,
   "id": "7472a8a7",
   "metadata": {},
   "outputs": [],
   "source": []
  }
 ],
 "metadata": {
  "kernelspec": {
   "display_name": "Python 3 (ipykernel)",
   "language": "python",
   "name": "python3"
  },
  "language_info": {
   "codemirror_mode": {
    "name": "ipython",
    "version": 3
   },
   "file_extension": ".py",
   "mimetype": "text/x-python",
   "name": "python",
   "nbconvert_exporter": "python",
   "pygments_lexer": "ipython3",
   "version": "3.9.12"
  }
 },
 "nbformat": 4,
 "nbformat_minor": 5
}
