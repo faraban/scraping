{
 "cells": [
  {
   "cell_type": "code",
   "execution_count": 9,
   "id": "79e1efbe",
   "metadata": {},
   "outputs": [],
   "source": [
    "import pandas as pd \n",
    "import numpy as np\n",
    "from time import sleep "
   ]
  },
  {
   "cell_type": "code",
   "execution_count": 10,
   "id": "1c93d995",
   "metadata": {},
   "outputs": [],
   "source": [
    "from selenium import webdriver \n",
    "from selenium.webdriver.common.by import By\n",
    "from selenium.webdriver.common.keys import Keys "
   ]
  },
  {
   "cell_type": "code",
   "execution_count": 11,
   "id": "3c4cdb9c",
   "metadata": {},
   "outputs": [],
   "source": [
    "# search=driver.find_element(By.ID,\"q\") # find search bar\n",
    "# search.send_keys('appartement') # put a key want to search on the page\n",
    "# box=driver.find_element(By.CLASS_NAME,\"i.i-magnify.global-search__button__icon\").click() # find and click to search"
   ]
  },
  {
   "cell_type": "code",
   "execution_count": 45,
   "id": "13419405",
   "metadata": {},
   "outputs": [],
   "source": [
    "def Takelink(n):\n",
    "    driver = webdriver.Chrome()\n",
    "    href=[]\n",
    "    for i in range(n):\n",
    "        driver.get(f'https://www.expat-dakar.com/annonces?q=appartement&page={i}') \n",
    "        urls=driver.find_elements(By.CSS_SELECTOR,\".listing-card__inner\")\n",
    "        sleep(0.2)\n",
    "        for i in range(len(urls)):\n",
    "            href.append(urls[i].get_attribute(\"href\"))\n",
    "    return href"
   ]
  },
  {
   "cell_type": "code",
   "execution_count": 46,
   "id": "7512ae58",
   "metadata": {},
   "outputs": [],
   "source": [
    "a=Takelink(1)"
   ]
  },
  {
   "cell_type": "code",
   "execution_count": null,
   "id": "ca7cd3d6",
   "metadata": {},
   "outputs": [],
   "source": [
    "response = requests.get(img_url)\n",
    " with open(\"image.jpg\", \"wb\") as file:\n",
    "    file.write(response.content)"
   ]
  },
  {
   "cell_type": "code",
   "execution_count": 55,
   "id": "f86a98d3",
   "metadata": {},
   "outputs": [],
   "source": [
    "def Take_elements(href):\n",
    "    driver = webdriver.Chrome()\n",
    "    name=[]\n",
    "    chambre=[]\n",
    "    bain=[]\n",
    "    prix=[]\n",
    "    date_time=[]\n",
    "    local=[]\n",
    "    for i in href:\n",
    "        driver.get(i)\n",
    "        sleep(0.2)\n",
    "        descrip = driver.find_elements(By.CLASS_NAME,'listing-item__header') \n",
    "        nchanbre = driver.find_elements(By.CLASS_NAME,'listing-item__properties') \n",
    "        prc = driver.find_elements(By.CLASS_NAME,'listing-item__price') \n",
    "        date = driver.find_elements(By.CLASS_NAME,'listing-item__details__date') \n",
    "        lieu = driver.find_elements(By.CLASS_NAME,'listing-item__address')\n",
    "        for i in range(len(prc)):\n",
    "            name.append(descrip[i].text)\n",
    "            chambre.append(nchanbre[i].text)\n",
    "            prix.append(prc[i].text)\n",
    "            date_time.append(date[i].text)\n",
    "            local.append(lieu[i].text)\n",
    "    return (name,chambre,prix,date_time,local)"
   ]
  },
  {
   "cell_type": "code",
   "execution_count": 56,
   "id": "1987bb2f",
   "metadata": {},
   "outputs": [],
   "source": [
    "(name,chambre,prix,date_time,local)=Take_elements(a)"
   ]
  },
  {
   "cell_type": "code",
   "execution_count": 58,
   "id": "f49912ff",
   "metadata": {},
   "outputs": [],
   "source": [
    "# make a dictionnaire for arange the data\n",
    "data={'date':date_time, 'description':name, 'nombre_chambre':chambre, 'localisation': local, 'prix':prix}"
   ]
  },
  {
   "cell_type": "code",
   "execution_count": 59,
   "id": "c926f7c3",
   "metadata": {},
   "outputs": [],
   "source": [
    "# create a dataframe from the dictionnaire\n",
    "dt=pd.DataFrame(data)"
   ]
  },
  {
   "cell_type": "code",
   "execution_count": 60,
   "id": "d0ca29dc",
   "metadata": {},
   "outputs": [
    {
     "data": {
      "text/html": [
       "<div>\n",
       "<style scoped>\n",
       "    .dataframe tbody tr th:only-of-type {\n",
       "        vertical-align: middle;\n",
       "    }\n",
       "\n",
       "    .dataframe tbody tr th {\n",
       "        vertical-align: top;\n",
       "    }\n",
       "\n",
       "    .dataframe thead th {\n",
       "        text-align: right;\n",
       "    }\n",
       "</style>\n",
       "<table border=\"1\" class=\"dataframe\">\n",
       "  <thead>\n",
       "    <tr style=\"text-align: right;\">\n",
       "      <th></th>\n",
       "      <th>date</th>\n",
       "      <th>description</th>\n",
       "      <th>nombre_chambre</th>\n",
       "      <th>localisation</th>\n",
       "      <th>prix</th>\n",
       "    </tr>\n",
       "  </thead>\n",
       "  <tbody>\n",
       "    <tr>\n",
       "      <th>0</th>\n",
       "      <td>30. avr., 15:10</td>\n",
       "      <td>MARINA IMMO APPART</td>\n",
       "      <td>Chambres\\n3\\nSalle de Bain\\n4\\nMètres carrés\\n...</td>\n",
       "      <td>Liberte 2 Dakar</td>\n",
       "      <td>85 000 F Cfa</td>\n",
       "    </tr>\n",
       "    <tr>\n",
       "      <th>1</th>\n",
       "      <td>11. juil., 13:16</td>\n",
       "      <td>Appartement F4 à Ouest- foire</td>\n",
       "      <td>Chambres\\n3\\nSalle de Bain\\n2</td>\n",
       "      <td>Ouest foire Dakar</td>\n",
       "      <td>300 000 F Cfa</td>\n",
       "    </tr>\n",
       "    <tr>\n",
       "      <th>2</th>\n",
       "      <td>20. avr., 11:57</td>\n",
       "      <td>Appartement à sacré coeur 1</td>\n",
       "      <td>Chambres\\n2\\nSalle de Bain\\n3</td>\n",
       "      <td>Sacré-cœur Dakar</td>\n",
       "      <td>400 000 F Cfa</td>\n",
       "    </tr>\n",
       "    <tr>\n",
       "      <th>3</th>\n",
       "      <td>10. mars, 10:03</td>\n",
       "      <td>Appartement à vendre résidence ATAYA</td>\n",
       "      <td>Chambres\\n4\\nSalle de Bain\\n5\\nMètres carrés\\n...</td>\n",
       "      <td>Yoff Dakar</td>\n",
       "      <td>100 000 000 F Cfa</td>\n",
       "    </tr>\n",
       "    <tr>\n",
       "      <th>4</th>\n",
       "      <td>22. févr., 11:43</td>\n",
       "      <td>Appartement à louer au virage</td>\n",
       "      <td>Chambres\\n3\\nSalle de Bain\\n3\\nMètres carrés\\n...</td>\n",
       "      <td>Virage Dakar</td>\n",
       "      <td>550 000 F Cfa</td>\n",
       "    </tr>\n",
       "    <tr>\n",
       "      <th>5</th>\n",
       "      <td>20. févr., 13:51</td>\n",
       "      <td>Appartement neuf à sotrac mermoz</td>\n",
       "      <td>Chambres\\n2\\nSalle de Bain\\n2</td>\n",
       "      <td>Mermoz Dakar</td>\n",
       "      <td>480 000 F Cfa</td>\n",
       "    </tr>\n",
       "    <tr>\n",
       "      <th>6</th>\n",
       "      <td>8. juin, 19:24</td>\n",
       "      <td>Appartement standing sacré cœur 1</td>\n",
       "      <td>Chambres\\n3\\nSalle de Bain\\n4\\nMètres carrés\\n...</td>\n",
       "      <td>Sicap Sacré-cœur Dakar</td>\n",
       "      <td>500 000 F Cfa</td>\n",
       "    </tr>\n",
       "    <tr>\n",
       "      <th>7</th>\n",
       "      <td>25. janv., 13:55</td>\n",
       "      <td>Appartement à louer en ville</td>\n",
       "      <td>Chambres\\n3\\nSalle de Bain\\n2</td>\n",
       "      <td>Plateau Dakar</td>\n",
       "      <td>1 100 000 F Cfa</td>\n",
       "    </tr>\n",
       "    <tr>\n",
       "      <th>8</th>\n",
       "      <td>13. janv., 12:39</td>\n",
       "      <td>Appartement à louer à ngor</td>\n",
       "      <td>Chambres\\n2\\nSalle de Bain\\n2\\nMètres carrés\\n...</td>\n",
       "      <td>Ngor Dakar</td>\n",
       "      <td>300 000 F Cfa</td>\n",
       "    </tr>\n",
       "    <tr>\n",
       "      <th>9</th>\n",
       "      <td>30. déc. '22, 12:14</td>\n",
       "      <td>Appartement 3 chambres salon mamelles</td>\n",
       "      <td>Chambres\\n3\\nMètres carrés\\n125 m²</td>\n",
       "      <td>Mamelles Dakar</td>\n",
       "      <td>350 000 F Cfa</td>\n",
       "    </tr>\n",
       "  </tbody>\n",
       "</table>\n",
       "</div>"
      ],
      "text/plain": [
       "                  date                            description  \\\n",
       "0      30. avr., 15:10                     MARINA IMMO APPART   \n",
       "1     11. juil., 13:16          Appartement F4 à Ouest- foire   \n",
       "2      20. avr., 11:57            Appartement à sacré coeur 1   \n",
       "3      10. mars, 10:03   Appartement à vendre résidence ATAYA   \n",
       "4     22. févr., 11:43          Appartement à louer au virage   \n",
       "5     20. févr., 13:51       Appartement neuf à sotrac mermoz   \n",
       "6       8. juin, 19:24      Appartement standing sacré cœur 1   \n",
       "7     25. janv., 13:55           Appartement à louer en ville   \n",
       "8     13. janv., 12:39             Appartement à louer à ngor   \n",
       "9  30. déc. '22, 12:14  Appartement 3 chambres salon mamelles   \n",
       "\n",
       "                                      nombre_chambre            localisation  \\\n",
       "0  Chambres\\n3\\nSalle de Bain\\n4\\nMètres carrés\\n...         Liberte 2 Dakar   \n",
       "1                      Chambres\\n3\\nSalle de Bain\\n2       Ouest foire Dakar   \n",
       "2                      Chambres\\n2\\nSalle de Bain\\n3        Sacré-cœur Dakar   \n",
       "3  Chambres\\n4\\nSalle de Bain\\n5\\nMètres carrés\\n...              Yoff Dakar   \n",
       "4  Chambres\\n3\\nSalle de Bain\\n3\\nMètres carrés\\n...            Virage Dakar   \n",
       "5                      Chambres\\n2\\nSalle de Bain\\n2            Mermoz Dakar   \n",
       "6  Chambres\\n3\\nSalle de Bain\\n4\\nMètres carrés\\n...  Sicap Sacré-cœur Dakar   \n",
       "7                      Chambres\\n3\\nSalle de Bain\\n2           Plateau Dakar   \n",
       "8  Chambres\\n2\\nSalle de Bain\\n2\\nMètres carrés\\n...              Ngor Dakar   \n",
       "9                 Chambres\\n3\\nMètres carrés\\n125 m²          Mamelles Dakar   \n",
       "\n",
       "                prix  \n",
       "0       85 000 F Cfa  \n",
       "1      300 000 F Cfa  \n",
       "2      400 000 F Cfa  \n",
       "3  100 000 000 F Cfa  \n",
       "4      550 000 F Cfa  \n",
       "5      480 000 F Cfa  \n",
       "6      500 000 F Cfa  \n",
       "7    1 100 000 F Cfa  \n",
       "8      300 000 F Cfa  \n",
       "9      350 000 F Cfa  "
      ]
     },
     "execution_count": 60,
     "metadata": {},
     "output_type": "execute_result"
    }
   ],
   "source": [
    "# output the firsts line\n",
    "dt"
   ]
  },
  {
   "cell_type": "code",
   "execution_count": 138,
   "id": "5e59d312",
   "metadata": {},
   "outputs": [],
   "source": [
    "# charge out data in a xlsx file\n",
    "dt.to_excel('appartement.xlsx')"
   ]
  },
  {
   "cell_type": "code",
   "execution_count": 61,
   "id": "cdda43e2",
   "metadata": {},
   "outputs": [],
   "source": [
    "def Takelink(n):\n",
    "    driver = webdriver.Chrome()\n",
    "    href=[]\n",
    "    for i in range(n):\n",
    "        driver.get(f'https://www.expat-dakar.com/annonces?q=appartement&page={i}') \n",
    "        urls=driver.find_elements(By.CSS_SELECTOR,\".listing-card__inner\")\n",
    "        sleep(0.2)\n",
    "        for i in range(len(urls)):\n",
    "            href.append(urls[i].get_attribute(\"href\"))\n",
    "            \n",
    "    name=[]\n",
    "    chambre=[]\n",
    "    bain=[]\n",
    "    prix=[]\n",
    "    date_time=[]\n",
    "    local=[]\n",
    "    for i in href:\n",
    "        driver.get(i)\n",
    "        sleep(0.2)\n",
    "        descrip = driver.find_elements(By.CLASS_NAME,'listing-item__header') \n",
    "        nchanbre = driver.find_elements(By.CLASS_NAME,'listing-item__properties') \n",
    "        prc = driver.find_elements(By.CLASS_NAME,'listing-item__price') \n",
    "        date = driver.find_elements(By.CLASS_NAME,'listing-item__details__date') \n",
    "        lieu = driver.find_elements(By.CLASS_NAME,'listing-item__address')\n",
    "        for i in range(len(prc)):\n",
    "            name.append(descrip[i].text)\n",
    "            chambre.append(nchanbre[i].text)\n",
    "            prix.append(prc[i].text)\n",
    "            date_time.append(date[i].text)\n",
    "            local.append(lieu[i].text)\n",
    "    return (name,chambre,prix,date_time,local)\n"
   ]
  },
  {
   "cell_type": "code",
   "execution_count": 62,
   "id": "c6068605",
   "metadata": {},
   "outputs": [
    {
     "ename": "IndexError",
     "evalue": "list index out of range",
     "output_type": "error",
     "traceback": [
      "\u001b[1;31m---------------------------------------------------------------------------\u001b[0m",
      "\u001b[1;31mIndexError\u001b[0m                                Traceback (most recent call last)",
      "Input \u001b[1;32mIn [62]\u001b[0m, in \u001b[0;36m<cell line: 1>\u001b[1;34m()\u001b[0m\n\u001b[1;32m----> 1\u001b[0m (name,chambre,prix,date_time,local)\u001b[38;5;241m=\u001b[39m\u001b[43mTakelink\u001b[49m\u001b[43m(\u001b[49m\u001b[38;5;241;43m1\u001b[39;49m\u001b[43m)\u001b[49m\n",
      "Input \u001b[1;32mIn [61]\u001b[0m, in \u001b[0;36mTakelink\u001b[1;34m(n)\u001b[0m\n\u001b[0;32m     25\u001b[0m \u001b[38;5;28;01mfor\u001b[39;00m i \u001b[38;5;129;01min\u001b[39;00m \u001b[38;5;28mrange\u001b[39m(\u001b[38;5;28mlen\u001b[39m(prc)):\n\u001b[0;32m     26\u001b[0m     name\u001b[38;5;241m.\u001b[39mappend(descrip[i]\u001b[38;5;241m.\u001b[39mtext)\n\u001b[1;32m---> 27\u001b[0m     chambre\u001b[38;5;241m.\u001b[39mappend(\u001b[43mnchanbre\u001b[49m\u001b[43m[\u001b[49m\u001b[43mi\u001b[49m\u001b[43m]\u001b[49m\u001b[38;5;241m.\u001b[39mtext)\n\u001b[0;32m     28\u001b[0m     prix\u001b[38;5;241m.\u001b[39mappend(prc[i]\u001b[38;5;241m.\u001b[39mtext)\n\u001b[0;32m     29\u001b[0m     date_time\u001b[38;5;241m.\u001b[39mappend(date[i]\u001b[38;5;241m.\u001b[39mtext)\n",
      "\u001b[1;31mIndexError\u001b[0m: list index out of range"
     ]
    }
   ],
   "source": [
    "(name,chambre,prix,date_time,local)=Takelink(1)"
   ]
  },
  {
   "cell_type": "code",
   "execution_count": null,
   "id": "836325f9",
   "metadata": {},
   "outputs": [],
   "source": []
  }
 ],
 "metadata": {
  "kernelspec": {
   "display_name": "Python 3 (ipykernel)",
   "language": "python",
   "name": "python3"
  },
  "language_info": {
   "codemirror_mode": {
    "name": "ipython",
    "version": 3
   },
   "file_extension": ".py",
   "mimetype": "text/x-python",
   "name": "python",
   "nbconvert_exporter": "python",
   "pygments_lexer": "ipython3",
   "version": "3.9.12"
  }
 },
 "nbformat": 4,
 "nbformat_minor": 5
}
