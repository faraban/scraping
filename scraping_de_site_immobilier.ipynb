{
 "cells": [
  {
   "cell_type": "code",
   "execution_count": 120,
   "id": "79e1efbe",
   "metadata": {},
   "outputs": [],
   "source": [
    "import pandas as pd # charge pandas\n",
    "import numpy as np # charge nunpy\n",
    "from time import sleep # charge sleep attribute for sleep page"
   ]
  },
  {
   "cell_type": "code",
   "execution_count": 121,
   "id": "1c93d995",
   "metadata": {},
   "outputs": [],
   "source": [
    "from selenium import webdriver # charge webdriver attribute\n",
    "from selenium.webdriver.common.by import By # charge by attribute\n",
    "from selenium.webdriver.common.keys import Keys # charge keys attribute"
   ]
  },
  {
   "cell_type": "code",
   "execution_count": 122,
   "id": "3c4cdb9c",
   "metadata": {},
   "outputs": [],
   "source": [
    "# search=driver.find_element(By.ID,\"q\") # find search bar\n",
    "# search.send_keys('appartement') # put a key want to search on the page\n",
    "# box=driver.find_element(By.CLASS_NAME,\"i.i-magnify.global-search__button__icon\").click() # find and click to search"
   ]
  },
  {
   "cell_type": "code",
   "execution_count": 139,
   "id": "13419405",
   "metadata": {},
   "outputs": [],
   "source": [
    "# ---- extraction of data----\n",
    "driver = webdriver.Chrome()\n",
    "# create the lists for collecte data\n",
    "name=[]\n",
    "chambre=[]\n",
    "prix=[]\n",
    "date_time=[]\n",
    "local=[]\n",
    "# make a boucle for to scroll all pages\n",
    "for i in range(1,101):\n",
    "    driver.get(f'https://www.expat-dakar.com/annonces?q=appartement&page={i}') # get the page i\n",
    "    descrip = driver.find_elements(By.CLASS_NAME,'listing-card__header__title') # get the name of the article\n",
    "    nchanbre = driver.find_elements(By.CLASS_NAME,'listing-card__header__tags') \n",
    "    prc = driver.find_elements(By.CLASS_NAME,'listing-card__price') # get the price of the article\n",
    "    date = driver.find_elements(By.CLASS_NAME,'listing-card__header__date') # get the plub date\n",
    "    lieu = driver.find_elements(By.CLASS_NAME,'listing-card__header__location') # get his position\n",
    "    # make a boucle for to put data in the lists\n",
    "    for i in range(len(prc)):\n",
    "        name.append(descrip[i].text)\n",
    "        chambre.append(nchanbre[i].text)\n",
    "        prix.append(prc[i].text)\n",
    "        date_time.append(date[i].text)\n",
    "        local.append(lieu[i].text)"
   ]
  },
  {
   "cell_type": "code",
   "execution_count": 134,
   "id": "f49912ff",
   "metadata": {},
   "outputs": [],
   "source": [
    "# make a dictionnaire for arange the data\n",
    "data={'date':date_time, 'description':name, 'nombre_chambre':chambre, 'localisation': local, 'prix':prix}"
   ]
  },
  {
   "cell_type": "code",
   "execution_count": 135,
   "id": "c926f7c3",
   "metadata": {},
   "outputs": [],
   "source": [
    "# create a dataframe from the dictionnaire\n",
    "dt=pd.DataFrame(data)"
   ]
  },
  {
   "cell_type": "code",
   "execution_count": 136,
   "id": "d0ca29dc",
   "metadata": {},
   "outputs": [
    {
     "data": {
      "text/html": [
       "<div>\n",
       "<style scoped>\n",
       "    .dataframe tbody tr th:only-of-type {\n",
       "        vertical-align: middle;\n",
       "    }\n",
       "\n",
       "    .dataframe tbody tr th {\n",
       "        vertical-align: top;\n",
       "    }\n",
       "\n",
       "    .dataframe thead th {\n",
       "        text-align: right;\n",
       "    }\n",
       "</style>\n",
       "<table border=\"1\" class=\"dataframe\">\n",
       "  <thead>\n",
       "    <tr style=\"text-align: right;\">\n",
       "      <th></th>\n",
       "      <th>date</th>\n",
       "      <th>description</th>\n",
       "      <th>nombre_chambre</th>\n",
       "      <th>localisation</th>\n",
       "      <th>prix</th>\n",
       "    </tr>\n",
       "  </thead>\n",
       "  <tbody>\n",
       "    <tr>\n",
       "      <th>0</th>\n",
       "      <td>30. avr., 15:10</td>\n",
       "      <td>MARINA IMMO APPART</td>\n",
       "      <td>3 chambre150 m²</td>\n",
       "      <td>Liberte 2, Dakar</td>\n",
       "      <td>85 000 F Cfa</td>\n",
       "    </tr>\n",
       "    <tr>\n",
       "      <th>1</th>\n",
       "      <td>23. juin '22, 12:08</td>\n",
       "      <td>Appartement à louer aux Almadies</td>\n",
       "      <td>3 chambre200 m²</td>\n",
       "      <td>Almadies, Dakar</td>\n",
       "      <td>500 000 F Cfa</td>\n",
       "    </tr>\n",
       "    <tr>\n",
       "      <th>2</th>\n",
       "      <td>20. mai '22, 21:11</td>\n",
       "      <td>Appartement à vendre à Point-E</td>\n",
       "      <td>4 chambre</td>\n",
       "      <td>Fann, Dakar</td>\n",
       "      <td>150 000 000 F Cfa</td>\n",
       "    </tr>\n",
       "    <tr>\n",
       "      <th>3</th>\n",
       "      <td>14. mars '22, 10:26</td>\n",
       "      <td>Appartement f3 à Liberte 6</td>\n",
       "      <td>2 chambre100 m²</td>\n",
       "      <td>Liberte 6, Dakar</td>\n",
       "      <td>408 000 F Cfa</td>\n",
       "    </tr>\n",
       "    <tr>\n",
       "      <th>4</th>\n",
       "      <td>17. déc. '21, 10:51</td>\n",
       "      <td>Appartement à vendre aux Mamelles</td>\n",
       "      <td>3 chambre190 m²</td>\n",
       "      <td>Ouakam, Dakar</td>\n",
       "      <td>110 000 000 F Cfa</td>\n",
       "    </tr>\n",
       "  </tbody>\n",
       "</table>\n",
       "</div>"
      ],
      "text/plain": [
       "                  date                        description   nombre_chambre  \\\n",
       "0      30. avr., 15:10                 MARINA IMMO APPART  3 chambre150 m²   \n",
       "1  23. juin '22, 12:08   Appartement à louer aux Almadies  3 chambre200 m²   \n",
       "2   20. mai '22, 21:11     Appartement à vendre à Point-E        4 chambre   \n",
       "3  14. mars '22, 10:26         Appartement f3 à Liberte 6  2 chambre100 m²   \n",
       "4  17. déc. '21, 10:51  Appartement à vendre aux Mamelles  3 chambre190 m²   \n",
       "\n",
       "       localisation               prix  \n",
       "0  Liberte 2, Dakar       85 000 F Cfa  \n",
       "1   Almadies, Dakar      500 000 F Cfa  \n",
       "2       Fann, Dakar  150 000 000 F Cfa  \n",
       "3  Liberte 6, Dakar      408 000 F Cfa  \n",
       "4     Ouakam, Dakar  110 000 000 F Cfa  "
      ]
     },
     "execution_count": 136,
     "metadata": {},
     "output_type": "execute_result"
    }
   ],
   "source": [
    "# output the firsts line\n",
    "dt.head()"
   ]
  },
  {
   "cell_type": "code",
   "execution_count": 138,
   "id": "5e59d312",
   "metadata": {},
   "outputs": [],
   "source": [
    "# charge out data in a xlsx file\n",
    "dt.to_excel('appartement.xlsx')"
   ]
  },
  {
   "cell_type": "code",
   "execution_count": null,
   "id": "cdda43e2",
   "metadata": {},
   "outputs": [],
   "source": []
  }
 ],
 "metadata": {
  "kernelspec": {
   "display_name": "Python 3 (ipykernel)",
   "language": "python",
   "name": "python3"
  },
  "language_info": {
   "codemirror_mode": {
    "name": "ipython",
    "version": 3
   },
   "file_extension": ".py",
   "mimetype": "text/x-python",
   "name": "python",
   "nbconvert_exporter": "python",
   "pygments_lexer": "ipython3",
   "version": "3.9.12"
  }
 },
 "nbformat": 4,
 "nbformat_minor": 5
}
