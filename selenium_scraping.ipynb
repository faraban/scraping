{
 "cells": [
  {
   "cell_type": "code",
   "execution_count": 1,
   "id": "fc27102c",
   "metadata": {},
   "outputs": [],
   "source": [
    "# importer pandas et numpy\n",
    "import numpy as np\n",
    "import pandas as pd\n",
    "from time import sleep"
   ]
  },
  {
   "cell_type": "code",
   "execution_count": 2,
   "id": "f1c27856",
   "metadata": {},
   "outputs": [],
   "source": [
    "# importer webdriver by et keys\n",
    "from selenium import webdriver\n",
    "from selenium.webdriver.common.by import By\n",
    "from selenium.webdriver.common.keys import Keys"
   ]
  },
  {
   "cell_type": "code",
   "execution_count": 3,
   "id": "218cd653",
   "metadata": {
    "scrolled": true
   },
   "outputs": [],
   "source": [
    "# recupperation des infos sur le site\n",
    "driver = webdriver.Chrome()\n",
    "driver.get('https://www.jumia.ci')\n",
    "search_box=driver.find_element(By.ID, \"fi-q\")\n",
    "search_box.clear()\n",
    "search_box.send_keys(\"Ordinateurs portables\")\n",
    "search_box.submit()\n",
    "\n",
    "ordi=driver.find_elements(By.CLASS_NAME, \"name\")\n",
    "prix=driver.find_elements(By.CLASS_NAME, \"prc\")\n",
    "\n",
    "for i in range(2,51):\n",
    "    driver.get(f'https://www.jumia.ci/catalog/?q=ordinateurs+portables&page={i}#catalog-listing')\n",
    "    newordi=driver.find_elements(By.CLASS_NAME, \"name\")\n",
    "    newprix=driver.find_elements(By.CLASS_NAME, \"prc\")\n",
    "    sleep(1)\n",
    "    ordi=ordi+newordi\n",
    "    prix=prix+newprix"
   ]
  },
  {
   "cell_type": "code",
   "execution_count": 15,
   "id": "845945fa",
   "metadata": {},
   "outputs": [
    {
     "name": "stdout",
     "output_type": "stream",
     "text": [
      "aaaaa\n",
      "Plus de pages disponibles.\n"
     ]
    }
   ],
   "source": [
    "driver = webdriver.Chrome()\n",
    "driver.get('https://www.jumia.ci')\n",
    "search_box=driver.find_element(By.ID, \"fi-q\")\n",
    "search_box.clear()\n",
    "search_box.send_keys(\"Ordinateurs portables\")\n",
    "search_box.submit()\n",
    "while True:\n",
    "    # Effectuez votre extraction de données sur la page actuelle ici\n",
    "    print(\"aaaaa\")\n",
    "    # Cliquez sur le bouton \"Page suivante\" (ou ajustez le sélecteur en conséquence)\n",
    "    try:\n",
    "        next_button = driver.find_element(By.CLASS_NAME,\"pg\")  # Exemple de sélecteur XPath\n",
    "        next_button.click()\n",
    "        time.sleep(2)  # Attendez quelques secondes pour que la nouvelle page se charge\n",
    "    except Exception as e:\n",
    "        print(\"Plus de pages disponibles.\")\n",
    "        break  # Quittez la boucle si le bouton \"Page suivante\" n'est plus trouvé"
   ]
  },
  {
   "cell_type": "code",
   "execution_count": 9,
   "id": "1c03d50a",
   "metadata": {},
   "outputs": [
    {
     "data": {
      "text/plain": [
       "2000"
      ]
     },
     "execution_count": 9,
     "metadata": {},
     "output_type": "execute_result"
    }
   ],
   "source": [
    "len(prix)"
   ]
  },
  {
   "cell_type": "code",
   "execution_count": 8,
   "id": "5feab089",
   "metadata": {},
   "outputs": [],
   "source": [
    "# stockage des infos dans une liste\n",
    "liste=[]\n",
    "for i in range(len(ordi)):\n",
    "    infos={}\n",
    "    infos['modele']= ordi[i].text\n",
    "    infos['prix']= prix[i].text\n",
    "    liste.append(infos)"
   ]
  },
  {
   "cell_type": "code",
   "execution_count": 7,
   "id": "6b64c6b7",
   "metadata": {},
   "outputs": [],
   "source": [
    "data=pd.DataFrame(liste)"
   ]
  },
  {
   "cell_type": "code",
   "execution_count": 3,
   "id": "e4a89270",
   "metadata": {},
   "outputs": [],
   "source": [
    "# save it to a file\n",
    "with open(\"results.txt\", \"w\") as f:\n",
    "f.write(text)\n",
    "except Exception as e:\n",
    "print(f\"An error occurred: {e}\")\n",
    "# driver.quit()"
   ]
  },
  {
   "cell_type": "code",
   "execution_count": null,
   "id": "53230b18",
   "metadata": {},
   "outputs": [],
   "source": []
  }
 ],
 "metadata": {
  "kernelspec": {
   "display_name": "Python 3 (ipykernel)",
   "language": "python",
   "name": "python3"
  },
  "language_info": {
   "codemirror_mode": {
    "name": "ipython",
    "version": 3
   },
   "file_extension": ".py",
   "mimetype": "text/x-python",
   "name": "python",
   "nbconvert_exporter": "python",
   "pygments_lexer": "ipython3",
   "version": "3.9.12"
  }
 },
 "nbformat": 4,
 "nbformat_minor": 5
}
