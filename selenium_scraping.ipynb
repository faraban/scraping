{
 "cells": [
  {
   "cell_type": "code",
   "execution_count": 1,
   "id": "fc27102c",
   "metadata": {},
   "outputs": [],
   "source": [
    "# importer pandas et numpy\n",
    "import numpy as np\n",
    "import pandas as pd\n",
    "from time import sleep"
   ]
  },
  {
   "cell_type": "code",
   "execution_count": 2,
   "id": "f1c27856",
   "metadata": {},
   "outputs": [],
   "source": [
    "# importer webdriver by et keys\n",
    "from selenium import webdriver\n",
    "from selenium.webdriver.common.by import By\n",
    "from selenium.webdriver.common.keys import Keys"
   ]
  },
  {
   "cell_type": "code",
   "execution_count": 16,
   "id": "218cd653",
   "metadata": {
    "scrolled": true
   },
   "outputs": [],
   "source": [
    "# recupperation des infos sur le site\n",
    "\n",
    "driver = webdriver.Chrome()\n",
    "driver.get('https://www.jumia.ci')\n",
    "\n",
    "search_box=driver.find_element(By.ID, \"fi-q\")\n",
    "search_box.clear()\n",
    "search_box.send_keys(\"Ordinateurs portables\")\n",
    "search_box.submit()\n",
    "\n",
    "ordi=driver.find_elements(By.CLASS_NAME, \"name\")\n",
    "prix=driver.find_elements(By.CLASS_NAME, \"prc\")\n",
    "listord=[]\n",
    "listpri=[]\n",
    "for i in range(len(ordi)):\n",
    "    listord.append(ordi[i].text)\n",
    "    listpri.append(prix[i].text)\n",
    "   \n",
    "for i in range(2,51):\n",
    "    driver.get(f'https://www.jumia.ci/catalog/?q=ordinateurs+portables&page={i}#catalog-listing')\n",
    "    nordi=driver.find_elements(By.CLASS_NAME, \"name\")\n",
    "    nprix=driver.find_elements(By.CLASS_NAME, \"prc\")\n",
    "    for i in range(len(nordi)):\n",
    "        listord.append(nordi[i].text)\n",
    "        listpri.append(nprix[i].text)\n",
    "    "
   ]
  },
  {
   "cell_type": "code",
   "execution_count": 18,
   "id": "f63f36b8",
   "metadata": {},
   "outputs": [
    {
     "data": {
      "text/plain": [
       "2000"
      ]
     },
     "execution_count": 18,
     "metadata": {},
     "output_type": "execute_result"
    }
   ],
   "source": [
    "len(listord) "
   ]
  },
  {
   "cell_type": "code",
   "execution_count": 22,
   "id": "6b64c6b7",
   "metadata": {},
   "outputs": [],
   "source": [
    "liste={}\n",
    "liste[\"modele\"]=listord\n",
    "liste[\"prix\"]=listpri\n",
    "data=pd.DataFrame(liste)"
   ]
  },
  {
   "cell_type": "code",
   "execution_count": 23,
   "id": "45eee40f",
   "metadata": {},
   "outputs": [
    {
     "data": {
      "text/html": [
       "<div>\n",
       "<style scoped>\n",
       "    .dataframe tbody tr th:only-of-type {\n",
       "        vertical-align: middle;\n",
       "    }\n",
       "\n",
       "    .dataframe tbody tr th {\n",
       "        vertical-align: top;\n",
       "    }\n",
       "\n",
       "    .dataframe thead th {\n",
       "        text-align: right;\n",
       "    }\n",
       "</style>\n",
       "<table border=\"1\" class=\"dataframe\">\n",
       "  <thead>\n",
       "    <tr style=\"text-align: right;\">\n",
       "      <th></th>\n",
       "      <th>modele</th>\n",
       "      <th>prix</th>\n",
       "    </tr>\n",
       "  </thead>\n",
       "  <tbody>\n",
       "    <tr>\n",
       "      <th>0</th>\n",
       "      <td>Lenovo Ideapad Lenovo Ordinateur Portable Leno...</td>\n",
       "      <td>134,350 FCFA</td>\n",
       "    </tr>\n",
       "    <tr>\n",
       "      <th>1</th>\n",
       "      <td>Lenovo DUAL CORE - 4GB RAM / 256 GO SSD - GRIS...</td>\n",
       "      <td>134,450 FCFA</td>\n",
       "    </tr>\n",
       "    <tr>\n",
       "      <th>2</th>\n",
       "      <td>Hp DUAL CORE - 4 GB RAM - ECRAN 15.6 \" - COULE...</td>\n",
       "      <td>169,580 FCFA</td>\n",
       "    </tr>\n",
       "    <tr>\n",
       "      <th>3</th>\n",
       "      <td>Lenovo IdeaPad 1 - WIN 11 – Dual Core N4020 – ...</td>\n",
       "      <td>134,300 FCFA</td>\n",
       "    </tr>\n",
       "    <tr>\n",
       "      <th>4</th>\n",
       "      <td>Hp - 4 GB RAM - Dualcore N4020 - 1000GB HDD - ...</td>\n",
       "      <td>134,150 FCFA</td>\n",
       "    </tr>\n",
       "    <tr>\n",
       "      <th>...</th>\n",
       "      <td>...</td>\n",
       "      <td>...</td>\n",
       "    </tr>\n",
       "    <tr>\n",
       "      <th>1995</th>\n",
       "      <td>Lenovo Sac à Main Pour Ordinateur Portable Len...</td>\n",
       "      <td>11,900 FCFA</td>\n",
       "    </tr>\n",
       "    <tr>\n",
       "      <th>1996</th>\n",
       "      <td>Hp Chargeur HP 19.5V 3.33A 4530 + Câble De Cha...</td>\n",
       "      <td>11,000 FCFA</td>\n",
       "    </tr>\n",
       "    <tr>\n",
       "      <th>1997</th>\n",
       "      <td>Sac A Dos - Rangement D'ordinateur 15 à 17 Pou...</td>\n",
       "      <td>15,980 FCFA</td>\n",
       "    </tr>\n",
       "    <tr>\n",
       "      <th>1998</th>\n",
       "      <td>Lenovo Chargeur Adapter PC IBM Lenovo Bout USB...</td>\n",
       "      <td>6,600 FCFA</td>\n",
       "    </tr>\n",
       "    <tr>\n",
       "      <th>1999</th>\n",
       "      <td>Sony Chargeur SONY 19.5V 4.7A /604414 - Noir</td>\n",
       "      <td>12,000 FCFA</td>\n",
       "    </tr>\n",
       "  </tbody>\n",
       "</table>\n",
       "<p>2000 rows × 2 columns</p>\n",
       "</div>"
      ],
      "text/plain": [
       "                                                 modele          prix\n",
       "0     Lenovo Ideapad Lenovo Ordinateur Portable Leno...  134,350 FCFA\n",
       "1     Lenovo DUAL CORE - 4GB RAM / 256 GO SSD - GRIS...  134,450 FCFA\n",
       "2     Hp DUAL CORE - 4 GB RAM - ECRAN 15.6 \" - COULE...  169,580 FCFA\n",
       "3     Lenovo IdeaPad 1 - WIN 11 – Dual Core N4020 – ...  134,300 FCFA\n",
       "4     Hp - 4 GB RAM - Dualcore N4020 - 1000GB HDD - ...  134,150 FCFA\n",
       "...                                                 ...           ...\n",
       "1995  Lenovo Sac à Main Pour Ordinateur Portable Len...   11,900 FCFA\n",
       "1996  Hp Chargeur HP 19.5V 3.33A 4530 + Câble De Cha...   11,000 FCFA\n",
       "1997  Sac A Dos - Rangement D'ordinateur 15 à 17 Pou...   15,980 FCFA\n",
       "1998  Lenovo Chargeur Adapter PC IBM Lenovo Bout USB...    6,600 FCFA\n",
       "1999       Sony Chargeur SONY 19.5V 4.7A /604414 - Noir   12,000 FCFA\n",
       "\n",
       "[2000 rows x 2 columns]"
      ]
     },
     "execution_count": 23,
     "metadata": {},
     "output_type": "execute_result"
    }
   ],
   "source": [
    "data"
   ]
  },
  {
   "cell_type": "code",
   "execution_count": 3,
   "id": "e4a89270",
   "metadata": {},
   "outputs": [],
   "source": [
    "# save it to a file\n",
    "with open(\"results.txt\", \"w\") as f:\n",
    "f.write(text)\n",
    "except Exception as e:\n",
    "print(f\"An error occurred: {e}\")\n",
    "# driver.quit()"
   ]
  },
  {
   "cell_type": "code",
   "execution_count": null,
   "id": "53230b18",
   "metadata": {},
   "outputs": [],
   "source": []
  }
 ],
 "metadata": {
  "kernelspec": {
   "display_name": "Python 3 (ipykernel)",
   "language": "python",
   "name": "python3"
  },
  "language_info": {
   "codemirror_mode": {
    "name": "ipython",
    "version": 3
   },
   "file_extension": ".py",
   "mimetype": "text/x-python",
   "name": "python",
   "nbconvert_exporter": "python",
   "pygments_lexer": "ipython3",
   "version": "3.9.12"
  }
 },
 "nbformat": 4,
 "nbformat_minor": 5
}
