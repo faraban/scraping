{
 "cells": [
  {
   "cell_type": "markdown",
   "id": "e5255631",
   "metadata": {},
   "source": [
    "# ENVOI AUTOMATIQUE DE MESSAGES,IMAGES ET VIDEOS PAR WHATSAPP AVEC UN SCRIPT PYTHON"
   ]
  },
  {
   "cell_type": "markdown",
   "id": "ac72e142",
   "metadata": {},
   "source": [
    "### - CHARGEMENT DE LA BIBLIOTHEQUE PYTHON QUI PERMET CELA"
   ]
  },
  {
   "cell_type": "code",
   "execution_count": null,
   "id": "68b1e0c1",
   "metadata": {},
   "outputs": [],
   "source": [
    "import pywhatkit as kit"
   ]
  },
  {
   "cell_type": "markdown",
   "id": "789f8caf",
   "metadata": {},
   "source": [
    "### - Envoi de message à une personne"
   ]
  },
  {
   "cell_type": "code",
   "execution_count": null,
   "id": "1e2eb198",
   "metadata": {},
   "outputs": [],
   "source": [
    "numero=\"+2250591919191\"\n",
    "message=\"hi bro\"\n",
    "# heure d envoi souhaiter 23H 55MN 15S"
   ]
  },
  {
   "cell_type": "code",
   "execution_count": null,
   "id": "cb375baf",
   "metadata": {},
   "outputs": [],
   "source": [
    "kit.sendwhatmsg(numero,message,11,52)"
   ]
  },
  {
   "cell_type": "markdown",
   "id": "e2d7776a",
   "metadata": {},
   "source": [
    "### - Envoi d'image à une personne"
   ]
  },
  {
   "cell_type": "code",
   "execution_count": null,
   "id": "be55e730",
   "metadata": {},
   "outputs": [],
   "source": [
    "numero=\"+2250591919191\"\n",
    "img=\"image.jpg\" # le lien de l'image \n",
    "caption=\"photo de ruth\" "
   ]
  },
  {
   "cell_type": "code",
   "execution_count": null,
   "id": "41fd1a5a",
   "metadata": {},
   "outputs": [],
   "source": [
    "pywhatkit.sendwhats_image(numero,img,caption,10,True,2)\n",
    "# le temps d'attente avant l'envoie de l'image est 10S\n",
    "# ensuite 'true' pour autoriser la fermeture de la fenettre ouverte\n",
    "# temps avant fermeture de la fenettre 2S"
   ]
  },
  {
   "cell_type": "markdown",
   "id": "e23ef9d0",
   "metadata": {},
   "source": [
    "### - envoi à un groupe"
   ]
  },
  {
   "cell_type": "code",
   "execution_count": null,
   "id": "6d56e935",
   "metadata": {},
   "outputs": [],
   "source": [
    "# lien du groupe https://chat.whatsapp.com/DWh02LlYgreE8963vGDybr\n",
    "lien='DWh02LlYgreE8963vGDybr'\n",
    "message=\"hi all members\""
   ]
  },
  {
   "cell_type": "code",
   "execution_count": null,
   "id": "e3f6e4da",
   "metadata": {},
   "outputs": [],
   "source": [
    "pywhatkit.sendwhatmsg_to_group(lien,message,23,55,15)"
   ]
  },
  {
   "cell_type": "code",
   "execution_count": null,
   "id": "045a996b",
   "metadata": {},
   "outputs": [],
   "source": [
    "# lien du groupe https://chat.whatsapp.com/DWh02LlYgreE8963vGDybr\n",
    "lien='DWh02LlYgreE8963vGDybr'\n",
    "img=\"image.jpg\" # le lien de l'image \n",
    "caption=\"photo de ruth\" "
   ]
  },
  {
   "cell_type": "code",
   "execution_count": null,
   "id": "c2974f67",
   "metadata": {},
   "outputs": [],
   "source": [
    "pywhatkit.sendwhats_image(lien,img,caption,10,True,2)"
   ]
  }
 ],
 "metadata": {
  "kernelspec": {
   "display_name": "Python 3 (ipykernel)",
   "language": "python",
   "name": "python3"
  },
  "language_info": {
   "codemirror_mode": {
    "name": "ipython",
    "version": 3
   },
   "file_extension": ".py",
   "mimetype": "text/x-python",
   "name": "python",
   "nbconvert_exporter": "python",
   "pygments_lexer": "ipython3",
   "version": "3.9.12"
  }
 },
 "nbformat": 4,
 "nbformat_minor": 5
}
